{
 "cells": [
  {
   "cell_type": "markdown",
   "metadata": {
    "id": "rq-IdVKELXzp"
   },
   "source": [
    "# Local Spatial Autocorrelation\n",
    "\n",
    "https://geographicdata.science/book/notebooks/07_local_autocorrelation.html"
   ]
  },
  {
   "cell_type": "code",
   "execution_count": null,
   "metadata": {
    "id": "3gbkQg5v-f39"
   },
   "outputs": [],
   "source": [
    "# @title 初始值設定\n",
    "\n",
    "PROJECT_NAME = \"15_台南市區_合併位置\"\n",
    "\n",
    "DENGUE_DAILY_GSHEET_PATH = \"https://docs.google.com/spreadsheets/d/1vYyoq0Vf07kuWJU0Rg375jpHT9r9WzA2jiCPl3V3Oi4/edit?gid=2026372005#gid=2026372005\"\n",
    "GEOJSON_FILE_PATH = \"https://drive.google.com/file/d/1djyIaLyGPCoJNHt4Bgo-K6YZcr-5Mtys/view?usp=sharing\"\n",
    "WORKSHEET_NAME = PROJECT_NAME"
   ]
  },
  {
   "cell_type": "code",
   "execution_count": null,
   "metadata": {
    "cellView": "form",
    "id": "5AlFV54VvTd0"
   },
   "outputs": [],
   "source": [
    "# @title 下載台北思源黑體\n",
    "\n",
    "# 下載台北思源黑體，並隱藏輸出\n",
    "!wget -q -O TaipeiSansTCBeta-Regular.ttf https://drive.google.com/uc?id=1eGAsTN1HBpJAkeVM57_C7ccp7hbgSz3_&export=download\n",
    "\n",
    "# 匯入必要的庫\n",
    "import matplotlib as mpl\n",
    "import matplotlib.pyplot as plt\n",
    "from matplotlib.font_manager import fontManager\n",
    "\n",
    "# 新增字體\n",
    "fontManager.addfont('TaipeiSansTCBeta-Regular.ttf')\n",
    "\n",
    "# 設定字體\n",
    "mpl.rc('font', family='Taipei Sans TC Beta')\n"
   ]
  },
  {
   "cell_type": "code",
   "execution_count": null,
   "metadata": {
    "cellView": "form",
    "colab": {
     "base_uri": "https://localhost:8080/"
    },
    "executionInfo": {
     "elapsed": 40191,
     "status": "ok",
     "timestamp": 1747672549406,
     "user": {
      "displayName": "Kevin Cheng",
      "userId": "12501819886626332022"
     },
     "user_tz": -480
    },
    "id": "8EPcE80spK5c",
    "outputId": "023ebdfe-24fe-4988-d5e7-860c87669011"
   },
   "outputs": [],
   "source": [
    "# @title 安裝套件\n",
    "\n",
    "!pip install -q geopandas gdown\n",
    "!pip install -q pysal splot contextily\n",
    "!pip install -q rioxarray rasterio xarray"
   ]
  },
  {
   "cell_type": "markdown",
   "metadata": {
    "id": "8gsXISEKy07v"
   },
   "source": [
    "---"
   ]
  },
  {
   "cell_type": "markdown",
   "metadata": {
    "id": "_7upM971C0TJ"
   },
   "source": [
    "# An empirical illustration"
   ]
  },
  {
   "cell_type": "code",
   "execution_count": null,
   "metadata": {
    "cellView": "form",
    "colab": {
     "base_uri": "https://localhost:8080/"
    },
    "executionInfo": {
     "elapsed": 36700,
     "status": "ok",
     "timestamp": 1747672586107,
     "user": {
      "displayName": "Kevin Cheng",
      "userId": "12501819886626332022"
     },
     "user_tz": -480
    },
    "id": "isc72Sjqq7Qw",
    "outputId": "cc0b041e-29d9-4e3f-d332-dc811fa6bbf6"
   },
   "outputs": [],
   "source": [
    "# @title 匯入函式庫\n",
    "\n",
    "import matplotlib.pyplot as plt  # Graphics\n",
    "from matplotlib import colors\n",
    "import seaborn  # Graphics\n",
    "import geopandas  # Spatial data manipulation\n",
    "import pandas  # Tabular data manipulation\n",
    "import rioxarray  # Surface data manipulation\n",
    "import xarray  # Surface data manipulation\n",
    "from pysal.explore import esda  # Exploratory Spatial analytics\n",
    "from pysal.lib import weights  # Spatial weights\n",
    "import contextily  # Background tiles"
   ]
  },
  {
   "cell_type": "markdown",
   "metadata": {
    "id": "46_YsiBy-uZ_"
   },
   "source": [
    "## 資料集\n",
    "\n",
    "1. 2015年台南市登革熱病例 (sheet)\n",
    "1. 台南市最小統計區 (shp)"
   ]
  },
  {
   "cell_type": "code",
   "execution_count": null,
   "metadata": {
    "cellView": "form",
    "colab": {
     "base_uri": "https://localhost:8080/"
    },
    "executionInfo": {
     "elapsed": 19574,
     "status": "ok",
     "timestamp": 1747672605683,
     "user": {
      "displayName": "Kevin Cheng",
      "userId": "12501819886626332022"
     },
     "user_tz": -480
    },
    "id": "YHPV1b5By131",
    "outputId": "f0ec46e3-14e0-44b2-95ed-da81b64b7b1b"
   },
   "outputs": [],
   "source": [
    "# @title 載入2015年台南市登革熱病例(gsheet)\n",
    "\n",
    "# ✅ 匯入套件\n",
    "import pandas as pd\n",
    "import gspread\n",
    "from google.colab import auth\n",
    "from google.auth import default\n",
    "from gspread_dataframe import get_as_dataframe\n",
    "\n",
    "SPREADSHEET_ID_GSHEET = DENGUE_DAILY_GSHEET_PATH.split(\"/d/\")[1].split(\"/\")[0]\n",
    "\n",
    "# ✅ 認證授權\n",
    "auth.authenticate_user()\n",
    "creds, _ = default()\n",
    "gc = gspread.authorize(creds)\n",
    "\n",
    "# ✅ 開啟工作表\n",
    "sh = gc.open_by_key(SPREADSHEET_ID_GSHEET)\n",
    "worksheet = sh.worksheet(WORKSHEET_NAME)\n",
    "\n",
    "# ✅ 將工作表轉為 DataFrame\n",
    "ref = get_as_dataframe(worksheet)  # 可加入 index_col=\"name\" 如欄位存在\n",
    "\n",
    "ref.set_index(\"name\", inplace=True)\n",
    "\n",
    "# ✅ 預覽資料\n",
    "ref.info()"
   ]
  },
  {
   "cell_type": "code",
   "execution_count": null,
   "metadata": {
    "cellView": "form",
    "colab": {
     "base_uri": "https://localhost:8080/"
    },
    "executionInfo": {
     "elapsed": 4013,
     "status": "ok",
     "timestamp": 1747672609698,
     "user": {
      "displayName": "Kevin Cheng",
      "userId": "12501819886626332022"
     },
     "user_tz": -480
    },
    "id": "3bRJdFlp-zLq",
    "outputId": "6dac196d-35be-479c-9c86-ad0581bc2101"
   },
   "outputs": [],
   "source": [
    "# @title 下載geojson\n",
    "\n",
    "import gdown\n",
    "\n",
    "# ✅ 從 Google Drive 分享連結中提取檔案 ID\n",
    "file_id = GEOJSON_FILE_PATH.split(\"/d/\")[1].split(\"/\")[0]\n",
    "\n",
    "# ✅ 建立 direct download 連結\n",
    "download_url = f\"https://drive.google.com/uc?id={file_id}\"\n",
    "\n",
    "# ✅ 執行下載（保留原始檔名）\n",
    "gdown.download(download_url, quiet=False)  # 不指定 output，就會用原檔名\n",
    "\n",
    "# ✅ 驗證是否下載成功\n",
    "import os\n",
    "downloaded_files = os.listdir()\n",
    "print(\"📂 當前目錄檔案：\", downloaded_files)"
   ]
  },
  {
   "cell_type": "code",
   "execution_count": null,
   "metadata": {
    "colab": {
     "base_uri": "https://localhost:8080/",
     "height": 777
    },
    "executionInfo": {
     "elapsed": 1771,
     "status": "ok",
     "timestamp": 1747672611478,
     "user": {
      "displayName": "Kevin Cheng",
      "userId": "12501819886626332022"
     },
     "user_tz": -480
    },
    "id": "VkACgFn60fRi",
    "outputId": "fb8f2f1c-336a-4816-fa97-5dfc35acf53e"
   },
   "outputs": [],
   "source": [
    "# @title 載入台南市最小統計區(geojson)\n",
    "\n",
    "lads = geopandas.read_file(\n",
    "    f\"{PROJECT_NAME}.geojson\",\n",
    ").set_index(\"CODEBASE\")\n",
    "lads.info()\n",
    "\n",
    "#print(lads.crs) # EPSG:4979 Geodetic 3D coordinate system\n",
    "\n",
    "lads.set_crs(epsg=3826, inplace=True, allow_override=True) # EPSG:3826 TWD97\n",
    "\n",
    "#print(lads.crs)"
   ]
  },
  {
   "cell_type": "markdown",
   "metadata": {
    "id": "qDE-4RFX-5qS"
   },
   "source": [
    "# 分析count欄位"
   ]
  },
  {
   "cell_type": "code",
   "execution_count": null,
   "metadata": {
    "colab": {
     "base_uri": "https://localhost:8080/"
    },
    "executionInfo": {
     "elapsed": 162,
     "status": "ok",
     "timestamp": 1747672611641,
     "user": {
      "displayName": "Kevin Cheng",
      "userId": "12501819886626332022"
     },
     "user_tz": -480
    },
    "id": "xVPEW9x-09OM",
    "outputId": "bd1edee4-527a-4bb1-89ce-5911dc426284"
   },
   "outputs": [],
   "source": [
    "# @title 用index欄位合併csv與shp\n",
    "\n",
    "db = (\n",
    "    geopandas.GeoDataFrame(\n",
    "        lads.join(ref[[\"count\"]]), crs=lads.crs\n",
    "    )\n",
    "    .to_crs(epsg=3857)[ # EPSG:3857 Spherical Mercator\n",
    "        [\"count\", \"geometry\"]\n",
    "    ]\n",
    "    #.dropna()\n",
    ")\n",
    "\n",
    "db.info()"
   ]
  },
  {
   "cell_type": "code",
   "execution_count": null,
   "metadata": {
    "id": "QVTpUefn_BzC"
   },
   "outputs": [],
   "source": [
    "db[\"count\"] = db[\"count\"].fillna(0)  # ➤ 補 0"
   ]
  },
  {
   "cell_type": "code",
   "execution_count": null,
   "metadata": {
    "id": "j3Thmnv823EW"
   },
   "outputs": [],
   "source": [
    "# # Set up figure and a single axis\n",
    "# f, ax = plt.subplots(1, figsize=(9, 9))\n",
    "# # Build choropleth\n",
    "# db.plot(\n",
    "#     column=\"count\",\n",
    "#     cmap=\"viridis\",\n",
    "#     scheme=\"quantiles\",\n",
    "#     k=5,\n",
    "#     edgecolor=\"white\",\n",
    "#     linewidth=0.0,\n",
    "#     alpha=0.75,\n",
    "#     legend=True,\n",
    "#     legend_kwds=dict(loc=2),\n",
    "#     ax=ax,\n",
    "# )\n",
    "# # Add basemap\n",
    "# contextily.add_basemap(\n",
    "#     ax,\n",
    "#     crs=db.crs,\n",
    "#     source=contextily.providers.CartoDB.VoyagerNoLabels,\n",
    "# )\n",
    "# # Remove axes\n",
    "# ax.set_axis_off();"
   ]
  },
  {
   "cell_type": "markdown",
   "metadata": {
    "id": "sZWr08FW_Ku6"
   },
   "source": [
    "scheme 名稱\n",
    "說明\n",
    "- \"equal_interval\" 等距分級：將值域平均分為 k 等級\n",
    "- \"quantiles\" 分位數：依據排序後的分位數（例如四分位、五分位）劃分 k 等級\n",
    "- \"natural_breaks\" Jenks Natural Breaks（自然斷點）法，最常用於地理資料\n",
    "- \"fisher_jenks\" 類似 Jenks，但用 Fisher 的方式最小化群組內變異\n",
    "- \"headtail_breaks\" 專為長尾分布設計，適合右偏態分布（常見於城市規模、人口數）\n",
    "- \"maximum_breaks\" 嘗試最大化群組之間的差異（與 natural_breaks 相反）\n",
    "- \"std_mean\" 標準差法，以平均值與標準差為基準分級\n",
    "- \"percentiles\" 百分位分級，可微調分級分布（比 quantiles 更細）\n",
    "- \"box_plot\" 使用 boxplot（Tukey’s method），分成如 Q1-Q3、極端值等\n",
    "- \"jenks_caspall\" Jenks-Caspall 法改良版，比 natural breaks 更敏感\n",
    "- \"jenks_caspall_forced\" 強迫分為 k 組的 Jenks-Caspall 法\n",
    "- \"user_defined\" 使用者自定分級，需搭配 classification_kwds={\"bins\": [...]} 指定分級邊界\n"
   ]
  },
  {
   "cell_type": "code",
   "execution_count": null,
   "metadata": {
    "colab": {
     "base_uri": "https://localhost:8080/",
     "height": 730
    },
    "executionInfo": {
     "elapsed": 3798,
     "status": "ok",
     "timestamp": 1747672615460,
     "user": {
      "displayName": "Kevin Cheng",
      "userId": "12501819886626332022"
     },
     "user_tz": -480
    },
    "id": "z0j5jJTg_L-3",
    "outputId": "9860720c-34ae-41cd-e603-3deb816ec46d"
   },
   "outputs": [],
   "source": [
    "f, ax = plt.subplots(1, figsize=(9, 9))\n",
    "\n",
    "# ✅ 先繪製 count 為 0 的區塊，顏色固定為灰色\n",
    "db[db[\"count\"] == 0].plot(\n",
    "    color=\"lightgray\",  # 固定灰色\n",
    "    edgecolor=\"white\",  # 邊界顏色\n",
    "    linewidth=0.0,      # 無邊界線\n",
    "    alpha=0.75,         # 半透明\n",
    "    ax=ax               # 繪製在同一個 ax 上\n",
    ")\n",
    "\n",
    "# ✅ 再繪製 count > 0 的資料，使用分級色帶\n",
    "db[db[\"count\"] > 0].plot(\n",
    "    column=\"count\",                # 使用 count 欄位作為分級依據\n",
    "    cmap=\"viridis\",                # 色帶樣式\n",
    "    scheme=\"quantiles\",            # 使用分位數分級\n",
    "    k=5,                           # 分成 5 等級\n",
    "    edgecolor=\"white\",             # 邊界顏色\n",
    "    linewidth=0.0,                 # 無邊界線\n",
    "    alpha=0.75,                    # 半透明\n",
    "    legend=True,                   # 顯示圖例\n",
    "    legend_kwds={\"loc\": 2},        # 圖例位置：左上角\n",
    "    ax=ax                          # 繪製在同一個 ax 上\n",
    ")\n",
    "\n",
    "\n",
    "# ✅ 加入底圖（需要已投影為 Web Mercator）\n",
    "contextily.add_basemap(\n",
    "    ax,\n",
    "    crs=db.crs,  # 使用原始資料的座標系統\n",
    "    source=contextily.providers.Esri.WorldTerrain,  # 底圖來源\n",
    "    zoom=6       # 底圖縮放層級\n",
    ")\n",
    "\n",
    "# ✅ 移除軸線\n",
    "ax.set_axis_off()"
   ]
  },
  {
   "cell_type": "code",
   "execution_count": null,
   "metadata": {
    "id": "lsNgU4_RkoqV"
   },
   "outputs": [],
   "source": [
    "# @title 使用8個最近鄰居\n",
    "\n",
    "# Generate W from the GeoDataFrame\n",
    "w = weights.distance.KNN.from_dataframe(db, k=8)\n",
    "# Row-standardization\n",
    "w.transform = \"R\" # ✅ 將空間權重矩陣 w 標準化為「行標準化（Row-standardized）」"
   ]
  },
  {
   "cell_type": "markdown",
   "metadata": {
    "id": "2F6Jo8-gDXW0"
   },
   "source": [
    "# Motivating local spatial autocorrelation"
   ]
  },
  {
   "cell_type": "code",
   "execution_count": null,
   "metadata": {
    "id": "OaWQKeO_rDpK"
   },
   "outputs": [],
   "source": [
    "db[\"w_count\"] = weights.lag_spatial(w, db['count'])"
   ]
  },
  {
   "cell_type": "code",
   "execution_count": null,
   "metadata": {
    "id": "nBWxLnlwrEjT"
   },
   "outputs": [],
   "source": [
    "db[\"count_std\"] = db[\"count\"] - db[\"count\"].mean()\n",
    "db[\"w_count_std\"] = weights.lag_spatial(w, db['count_std'])"
   ]
  },
  {
   "cell_type": "code",
   "execution_count": null,
   "metadata": {
    "colab": {
     "base_uri": "https://localhost:8080/",
     "height": 542
    },
    "executionInfo": {
     "elapsed": 32,
     "status": "ok",
     "timestamp": 1747672615497,
     "user": {
      "displayName": "Kevin Cheng",
      "userId": "12501819886626332022"
     },
     "user_tz": -480
    },
    "id": "cUbCQChMrEzz",
    "outputId": "6865698e-96ec-45d7-86b0-4b5888e5acbf"
   },
   "outputs": [],
   "source": [
    "# Set up the figure and axis\n",
    "f, ax = plt.subplots(1, figsize=(6, 6))\n",
    "# Plot values\n",
    "seaborn.regplot(\n",
    "    x=\"count_std\", y=\"w_count_std\", data=db, ci=None\n",
    ")\n",
    "plt.show()"
   ]
  },
  {
   "cell_type": "code",
   "execution_count": null,
   "metadata": {
    "colab": {
     "base_uri": "https://localhost:8080/",
     "height": 617
    },
    "executionInfo": {
     "elapsed": 156,
     "status": "ok",
     "timestamp": 1747672615652,
     "user": {
      "displayName": "Kevin Cheng",
      "userId": "12501819886626332022"
     },
     "user_tz": -480
    },
    "id": "c76RyxeUrHOq",
    "outputId": "46d482db-e22c-4d4a-bff3-bac312c80915"
   },
   "outputs": [],
   "source": [
    "# Set up the figure and axis\n",
    "f, ax = plt.subplots(1, figsize=(6, 6))\n",
    "# Plot values\n",
    "seaborn.regplot(\n",
    "    x=\"count_std\", y=\"w_count_std\", data=db, ci=None\n",
    ")\n",
    "# Add vertical and horizontal lines\n",
    "plt.axvline(0, c=\"k\", alpha=0.5)\n",
    "plt.axhline(0, c=\"k\", alpha=0.5)\n",
    "# Add text labels for each quadrant\n",
    "plt.text(20, 5, \"HH\", fontsize=25, c=\"r\")\n",
    "plt.text(12, -11, \"HL\", fontsize=25, c=\"r\")\n",
    "plt.text(-20, 8.0, \"LH\", fontsize=25, c=\"r\")\n",
    "plt.text(-25, -11.0, \"LL\", fontsize=25, c=\"r\")\n",
    "# Display\n",
    "plt.show()"
   ]
  },
  {
   "cell_type": "markdown",
   "metadata": {
    "id": "bt7AyQT9Dz5X"
   },
   "source": [
    "# Local Moran’s"
   ]
  },
  {
   "cell_type": "code",
   "execution_count": null,
   "metadata": {
    "id": "Vq7j_uo8rJSi"
   },
   "outputs": [],
   "source": [
    "lisa = esda.moran.Moran_Local(db[\"count\"], w)"
   ]
  },
  {
   "cell_type": "code",
   "execution_count": null,
   "metadata": {
    "colab": {
     "base_uri": "https://localhost:8080/",
     "height": 430
    },
    "executionInfo": {
     "elapsed": 380,
     "status": "ok",
     "timestamp": 1747672622985,
     "user": {
      "displayName": "Kevin Cheng",
      "userId": "12501819886626332022"
     },
     "user_tz": -480
    },
    "id": "eskyojVOrKMH",
    "outputId": "86b92d0b-9fa3-473b-af59-1868a46f401d"
   },
   "outputs": [],
   "source": [
    "# Draw KDE line\n",
    "ax = seaborn.kdeplot(lisa.Is)\n",
    "# Add one small bar (rug) for each observation\n",
    "# along horizontal axis\n",
    "seaborn.rugplot(lisa.Is, ax=ax);"
   ]
  },
  {
   "cell_type": "code",
   "execution_count": null,
   "metadata": {
    "id": "q4hUh_iTrKZJ"
   },
   "outputs": [],
   "source": [
    "from splot import esda as esdaplot"
   ]
  },
  {
   "cell_type": "code",
   "execution_count": null,
   "metadata": {
    "colab": {
     "base_uri": "https://localhost:8080/",
     "height": 1000
    },
    "executionInfo": {
     "elapsed": 8518,
     "status": "ok",
     "timestamp": 1747672631506,
     "user": {
      "displayName": "Kevin Cheng",
      "userId": "12501819886626332022"
     },
     "user_tz": -480
    },
    "id": "B7zT52ZYrMSx",
    "outputId": "4dee9051-8bcb-4b28-c653-30a88e3cbfe5"
   },
   "outputs": [],
   "source": [
    "# Set up figure and axes\n",
    "f, axs = plt.subplots(nrows=2, ncols=2, figsize=(12, 12))\n",
    "# Make the axes accessible with single indexing\n",
    "axs = axs.flatten()\n",
    "\n",
    "# Subplot 1 #\n",
    "# Choropleth of local statistics\n",
    "# Grab first axis in the figure\n",
    "ax = axs[0]\n",
    "# Assign new column with local statistics on-the-fly\n",
    "db.assign(\n",
    "    Is=lisa.Is\n",
    "    # Plot choropleth of local statistics\n",
    ").plot(\n",
    "    column=\"Is\",\n",
    "    cmap=\"plasma\",\n",
    "    scheme=\"quantiles\",\n",
    "    k=5,\n",
    "    edgecolor=\"white\",\n",
    "    linewidth=0.1,\n",
    "    alpha=0.75,\n",
    "    legend=True,\n",
    "    ax=ax,\n",
    ")\n",
    "\n",
    "# Subplot 2 #\n",
    "# Quadrant categories\n",
    "# Grab second axis of local statistics\n",
    "ax = axs[1]\n",
    "# Plot Quadrant colors (note to ensure all polygons are assigned a\n",
    "# quadrant, we \"trick\" the function by setting significance level to\n",
    "# 1 so all observations are treated as \"significant\" and thus assigned\n",
    "# a quadrant color\n",
    "esdaplot.lisa_cluster(lisa, db, p=1, ax=ax)\n",
    "\n",
    "# Subplot 3 #\n",
    "# Significance map\n",
    "# Grab third axis of local statistics\n",
    "ax = axs[2]\n",
    "#\n",
    "# Find out significant observations\n",
    "labels = pandas.Series(\n",
    "    1 * (lisa.p_sim < 0.05),  # Assign 1 if significant, 0 otherwise\n",
    "    index=db.index  # Use the index in the original data\n",
    "    # Recode 1 to \"Significant and 0 to \"Non-significant\"\n",
    ").map({1: \"Significant\", 0: \"Non-Significant\"})\n",
    "# Assign labels to `db` on the fly\n",
    "db.assign(\n",
    "    cl=labels\n",
    "    # Plot choropleth of (non-)significant areas\n",
    ").plot(\n",
    "    column=\"cl\",\n",
    "    categorical=True,\n",
    "    k=2,\n",
    "    cmap=\"Paired\",\n",
    "    linewidth=0.1,\n",
    "    edgecolor=\"white\",\n",
    "    legend=True,\n",
    "    ax=ax,\n",
    ")\n",
    "\n",
    "\n",
    "# Subplot 4 #\n",
    "# Cluster map\n",
    "# Grab second axis of local statistics\n",
    "ax = axs[3]\n",
    "# Plot Quadrant colors In this case, we use a 5% significance\n",
    "# level to select polygons as part of statistically significant\n",
    "# clusters\n",
    "esdaplot.lisa_cluster(lisa, db, p=0.05, ax=ax)\n",
    "\n",
    "# Figure styling #\n",
    "# Set title to each subplot\n",
    "for i, ax in enumerate(axs.flatten()):\n",
    "    ax.set_axis_off()\n",
    "    ax.set_title(\n",
    "        [\n",
    "            \"Local Statistics\",\n",
    "            \"Scatterplot Quadrant\",\n",
    "            \"Statistical Significance\",\n",
    "            \"Moran Cluster Map\",\n",
    "        ][i],\n",
    "        y=0,\n",
    "    )\n",
    "# Tight layout to minimize in-between white space\n",
    "f.tight_layout()\n",
    "\n",
    "# Display the figure\n",
    "plt.show()"
   ]
  },
  {
   "cell_type": "code",
   "execution_count": null,
   "metadata": {
    "colab": {
     "base_uri": "https://localhost:8080/"
    },
    "executionInfo": {
     "elapsed": 4,
     "status": "ok",
     "timestamp": 1747672631512,
     "user": {
      "displayName": "Kevin Cheng",
      "userId": "12501819886626332022"
     },
     "user_tz": -480
    },
    "id": "qTnNsjnZrNPz",
    "outputId": "81a58e69-eb63-47ff-e001-c2954b497ce2"
   },
   "outputs": [],
   "source": [
    "lisa.q[:10]"
   ]
  },
  {
   "cell_type": "code",
   "execution_count": null,
   "metadata": {
    "colab": {
     "base_uri": "https://localhost:8080/",
     "height": 245
    },
    "executionInfo": {
     "elapsed": 3,
     "status": "ok",
     "timestamp": 1747672631515,
     "user": {
      "displayName": "Kevin Cheng",
      "userId": "12501819886626332022"
     },
     "user_tz": -480
    },
    "id": "dBXJ-VsLrQZr",
    "outputId": "aa1cabe0-dbe6-45b4-ac3e-64b5f730d5ca"
   },
   "outputs": [],
   "source": [
    "counts = pandas.value_counts(lisa.q)\n",
    "counts"
   ]
  },
  {
   "cell_type": "code",
   "execution_count": null,
   "metadata": {
    "colab": {
     "base_uri": "https://localhost:8080/"
    },
    "executionInfo": {
     "elapsed": 2,
     "status": "ok",
     "timestamp": 1747672631518,
     "user": {
      "displayName": "Kevin Cheng",
      "userId": "12501819886626332022"
     },
     "user_tz": -480
    },
    "id": "DKpYMXl3rQiS",
    "outputId": "2d53db1f-5786-4be7-a74e-d212979febc9"
   },
   "outputs": [],
   "source": [
    "(lisa.p_sim < 0.05).sum() * 100 / len(lisa.p_sim)"
   ]
  },
  {
   "cell_type": "code",
   "execution_count": null,
   "metadata": {
    "colab": {
     "base_uri": "https://localhost:8080/",
     "height": 238
    },
    "executionInfo": {
     "elapsed": 2,
     "status": "ok",
     "timestamp": 1747672631520,
     "user": {
      "displayName": "Kevin Cheng",
      "userId": "12501819886626332022"
     },
     "user_tz": -480
    },
    "id": "UB0rXSyjrSow",
    "outputId": "ae8054e2-573b-46c2-b9b6-c3f98fc7a9a1"
   },
   "outputs": [],
   "source": [
    "# Assign pseudo P-values to `db`\n",
    "db[\"p-sim\"] = lisa.p_sim\n",
    "# `1` if significant (at 5% confidence level), `0` otherwise\n",
    "sig = 1 * (lisa.p_sim < 0.05)\n",
    "# Assign significance flag to `db`\n",
    "db[\"sig\"] = sig\n",
    "# Print top of the table to inspect\n",
    "db[[\"sig\", \"p-sim\"]].head()"
   ]
  },
  {
   "cell_type": "code",
   "execution_count": null,
   "metadata": {
    "colab": {
     "base_uri": "https://localhost:8080/",
     "height": 238
    },
    "executionInfo": {
     "elapsed": 2,
     "status": "ok",
     "timestamp": 1747672631522,
     "user": {
      "displayName": "Kevin Cheng",
      "userId": "12501819886626332022"
     },
     "user_tz": -480
    },
    "id": "4-P2RoS-rUC-",
    "outputId": "9ee2496c-c5dc-4e92-ea53-bad0f33c96e6"
   },
   "outputs": [],
   "source": [
    "# Print bottom of the table to inspect\n",
    "db[[\"sig\", \"p-sim\"]].tail()"
   ]
  },
  {
   "cell_type": "code",
   "execution_count": null,
   "metadata": {
    "colab": {
     "base_uri": "https://localhost:8080/",
     "height": 272
    },
    "executionInfo": {
     "elapsed": 1,
     "status": "ok",
     "timestamp": 1747672631524,
     "user": {
      "displayName": "Kevin Cheng",
      "userId": "12501819886626332022"
     },
     "user_tz": -480
    },
    "id": "z5ZDdcv1rUM_",
    "outputId": "83027ea3-b59b-438c-e0ce-a3b4be18479b"
   },
   "outputs": [],
   "source": [
    "# Pick as part of a quadrant only significant polygons,\n",
    "# assign `0` otherwise (Non-significant polygons)\n",
    "spots = lisa.q * sig\n",
    "# Mapping from value to name (as a dict)\n",
    "spots_labels = {\n",
    "    0: \"Non-Significant\",\n",
    "    1: \"HH\",\n",
    "    2: \"LH\",\n",
    "    3: \"LL\",\n",
    "    4: \"HL\",\n",
    "}\n",
    "# Create column in `db` with labels for each polygon\n",
    "db[\"labels\"] = pandas.Series(\n",
    "    # First initialise a Series using values and `db` index\n",
    "    spots,\n",
    "    index=db.index\n",
    "    # Then map each value to corresponding label based\n",
    "    # on the `spots_labels` mapping\n",
    ").map(spots_labels)\n",
    "# Print top for inspection\n",
    "db[\"labels\"].head()"
   ]
  },
  {
   "cell_type": "code",
   "execution_count": null,
   "metadata": {
    "colab": {
     "base_uri": "https://localhost:8080/",
     "height": 272
    },
    "executionInfo": {
     "elapsed": 1,
     "status": "ok",
     "timestamp": 1747672631526,
     "user": {
      "displayName": "Kevin Cheng",
      "userId": "12501819886626332022"
     },
     "user_tz": -480
    },
    "id": "eSO4u0_IrVsD",
    "outputId": "e705411c-29cd-4e52-8009-ea4fe4d071d6"
   },
   "outputs": [],
   "source": [
    "db[\"labels\"].value_counts()"
   ]
  },
  {
   "cell_type": "markdown",
   "metadata": {
    "id": "uoigbjP3EVvC"
   },
   "source": [
    "# Getis and Ord’s local statistics"
   ]
  },
  {
   "cell_type": "code",
   "execution_count": null,
   "metadata": {
    "colab": {
     "base_uri": "https://localhost:8080/"
    },
    "executionInfo": {
     "elapsed": 16924,
     "status": "ok",
     "timestamp": 1747672648451,
     "user": {
      "displayName": "Kevin Cheng",
      "userId": "12501819886626332022"
     },
     "user_tz": -480
    },
    "id": "tAwmT69vrYBU",
    "outputId": "595648bf-1dbe-4a94-f522-1c08cb7e74aa"
   },
   "outputs": [],
   "source": [
    "# Gi\n",
    "go_i = esda.getisord.G_Local(db[\"count\"], w)\n",
    "# Gi*\n",
    "go_i_star = esda.getisord.G_Local(db[\"count\"], w, star=True)"
   ]
  },
  {
   "cell_type": "code",
   "execution_count": null,
   "metadata": {
    "id": "eujqajDGrYJL"
   },
   "outputs": [],
   "source": [
    "def g_map(g, db, ax):\n",
    "    \"\"\"\n",
    "    Create a cluster map\n",
    "    ...\n",
    "\n",
    "    Arguments\n",
    "    ---------\n",
    "    g      : G_Local\n",
    "             Object from the computation of the G statistic\n",
    "    db     : GeoDataFrame\n",
    "             Table aligned with values in `g` and containing\n",
    "             the geometries to plot\n",
    "    ax     : AxesSubplot\n",
    "             `matplotlib` axis to draw the map on\n",
    "\n",
    "    Returns\n",
    "    -------\n",
    "    ax     : AxesSubplot\n",
    "             Axis with the map drawn\n",
    "    \"\"\"\n",
    "    ec = \"0.8\"\n",
    "\n",
    "    # Break observations into significant or not\n",
    "    sig = g.p_sim < 0.05\n",
    "\n",
    "    # Plot non-significant clusters\n",
    "    ns = db.loc[sig == False, \"geometry\"]\n",
    "    ns.plot(ax=ax, color=\"lightgrey\", edgecolor=ec, linewidth=0.1)\n",
    "    # Plot HH clusters\n",
    "    hh = db.loc[(g.Zs > 0) & (sig == True), \"geometry\"]\n",
    "    hh.plot(ax=ax, color=\"red\", edgecolor=ec, linewidth=0.1)\n",
    "    # Plot LL clusters\n",
    "    ll = db.loc[(g.Zs < 0) & (sig == True), \"geometry\"]\n",
    "    ll.plot(ax=ax, color=\"blue\", edgecolor=ec, linewidth=0.1)\n",
    "    # Style and draw\n",
    "    contextily.add_basemap(\n",
    "        ax,\n",
    "        crs=db.crs,\n",
    "        source=contextily.providers.Esri.WorldTerrain,\n",
    "    )\n",
    "    # Flag to add a star to the title if it's G_i*\n",
    "    st = \"\"\n",
    "    if g.star:\n",
    "        st = \"*\"\n",
    "    # Add title\n",
    "    ax.set_title(f\"G{st} statistic for Pct of Leave votes\", size=15)\n",
    "    # Remove axis for aesthetics\n",
    "    ax.set_axis_off()\n",
    "    return ax"
   ]
  },
  {
   "cell_type": "code",
   "execution_count": null,
   "metadata": {
    "colab": {
     "base_uri": "https://localhost:8080/",
     "height": 617
    },
    "executionInfo": {
     "elapsed": 5712,
     "status": "ok",
     "timestamp": 1747672654165,
     "user": {
      "displayName": "Kevin Cheng",
      "userId": "12501819886626332022"
     },
     "user_tz": -480
    },
    "id": "qsh90LO9rZLp",
    "outputId": "41deb943-ee5a-4ccf-9f5a-3ab08c1fb65d"
   },
   "outputs": [],
   "source": [
    "# Set up figure and axes\n",
    "f, axs = plt.subplots(1, 2, figsize=(12, 6))\n",
    "# Loop over the two statistics\n",
    "for g, ax in zip([go_i, go_i_star], axs.flatten()):\n",
    "    # Generate the statistic's map\n",
    "    ax = g_map(g, db, ax)\n",
    "# Tight layout to minimise blank spaces\n",
    "f.tight_layout()\n",
    "# Render\n",
    "plt.show()"
   ]
  },
  {
   "cell_type": "markdown",
   "metadata": {
    "id": "hJyPWNTMEfLP"
   },
   "source": [
    "# Bonus: local statistics on surfaces"
   ]
  },
  {
   "cell_type": "code",
   "execution_count": null,
   "metadata": {
    "id": "lh9kOVgaraVf"
   },
   "outputs": [],
   "source": [
    "# Open GeoTIFF file and read into `xarray.DataArray`\n",
    "pop = rioxarray.open_rasterio(\"https://drive.google.com/uc?export=download&id=1h_SMrjukGLzNHdghkOkmyycaIkFuw7sh\") #(\"ghsl_sao_paulo.tif\")\n"
   ]
  },
  {
   "cell_type": "code",
   "execution_count": null,
   "metadata": {
    "id": "A1NzQ_Tqrc9T"
   },
   "outputs": [],
   "source": [
    "w_surface_sp = weights.Queen.from_xarray(pop)"
   ]
  },
  {
   "cell_type": "code",
   "execution_count": null,
   "metadata": {
    "colab": {
     "base_uri": "https://localhost:8080/"
    },
    "executionInfo": {
     "elapsed": 6,
     "status": "ok",
     "timestamp": 1747672992713,
     "user": {
      "displayName": "Kevin Cheng",
      "userId": "12501819886626332022"
     },
     "user_tz": -480
    },
    "id": "6rqNhBEvrdKE",
    "outputId": "36aa5913-bf9b-4ec1-ad1f-8ad17c40b572"
   },
   "outputs": [],
   "source": [
    "w_surface_sp.sparse.dtype"
   ]
  },
  {
   "cell_type": "code",
   "execution_count": null,
   "metadata": {
    "colab": {
     "base_uri": "https://localhost:8080/",
     "height": 187
    },
    "executionInfo": {
     "elapsed": 73,
     "status": "ok",
     "timestamp": 1747672992787,
     "user": {
      "displayName": "Kevin Cheng",
      "userId": "12501819886626332022"
     },
     "user_tz": -480
    },
    "id": "tuYEFyKHreWP",
    "outputId": "f189da4f-7e6f-48ad-ed78-67ee418b82b8"
   },
   "outputs": [],
   "source": [
    "type(w_surface_sp)"
   ]
  },
  {
   "cell_type": "code",
   "execution_count": null,
   "metadata": {
    "colab": {
     "base_uri": "https://localhost:8080/",
     "height": 187
    },
    "executionInfo": {
     "elapsed": 51,
     "status": "ok",
     "timestamp": 1747672992839,
     "user": {
      "displayName": "Kevin Cheng",
      "userId": "12501819886626332022"
     },
     "user_tz": -480
    },
    "id": "fmZG06_Zrg0e",
    "outputId": "3aeb896f-f4e9-43a0-b6e2-e3141f7ccf92"
   },
   "outputs": [],
   "source": [
    "import libpysal\n",
    "\n",
    "libpysal.weights.weights.WSP"
   ]
  },
  {
   "cell_type": "code",
   "execution_count": null,
   "metadata": {
    "id": "XPCP2RCyrg8K"
   },
   "outputs": [],
   "source": [
    "w_surface_all = weights.WSP2W(  # 3.Convert `WSP` object to `W`\n",
    "    weights.WSP(  # 2a.Build `WSP` from the float sparse matrix\n",
    "        w_surface_sp.sparse.astype(\n",
    "            float\n",
    "        ),  # 1.Convert sparse matrix to floats\n",
    "        id_order=w_surface_sp.index.tolist() # 2b. Ensure `W` is indexed\n",
    "    )\n",
    ")\n",
    "w_surface_all.index = w_surface_sp.index  # 4.Assign index to new `W`"
   ]
  },
  {
   "cell_type": "code",
   "execution_count": null,
   "metadata": {
    "id": "TUgw7fmsriyA"
   },
   "outputs": [],
   "source": [
    "# Convert `DataArray` to a `pandas.Series`\n",
    "pop_values = pop.to_series()\n",
    "# Subset to keep only values that aren't missing\n",
    "pop_values = pop_values[pop_values != pop.rio.nodata]"
   ]
  },
  {
   "cell_type": "code",
   "execution_count": null,
   "metadata": {
    "colab": {
     "base_uri": "https://localhost:8080/"
    },
    "executionInfo": {
     "elapsed": 7,
     "status": "ok",
     "timestamp": 1747672998361,
     "user": {
      "displayName": "Kevin Cheng",
      "userId": "12501819886626332022"
     },
     "user_tz": -480
    },
    "id": "CpCsG_ECri5z",
    "outputId": "5ed25e91-4e20-4940-a82e-8ecdd5fe2d0f"
   },
   "outputs": [],
   "source": [
    "pop.rio.nodata"
   ]
  },
  {
   "cell_type": "code",
   "execution_count": null,
   "metadata": {
    "id": "EJdd1TpIrkFW"
   },
   "outputs": [],
   "source": [
    "w_surface = weights.w_subset(w_surface_all, pop_values.index)\n",
    "w_surface.index = pop_values.index"
   ]
  },
  {
   "cell_type": "code",
   "execution_count": null,
   "metadata": {
    "id": "TAKJK_WErl_f"
   },
   "outputs": [],
   "source": [
    "# NOTE: this may take a bit longer to run depending on hardware\n",
    "pop_lisa = esda.moran.Moran_Local(\n",
    "    pop_values.astype(float), w_surface, n_jobs=-1\n",
    ")"
   ]
  },
  {
   "cell_type": "code",
   "execution_count": null,
   "metadata": {
    "id": "wrpHlP4JrmJv"
   },
   "outputs": [],
   "source": [
    "from libpysal.weights import raster"
   ]
  },
  {
   "cell_type": "code",
   "execution_count": null,
   "metadata": {
    "id": "62VqRMNxrnE0"
   },
   "outputs": [],
   "source": [
    "sig_pop = pandas.Series(\n",
    "    pop_lisa.q\n",
    "    * (\n",
    "        pop_lisa.p_sim < 0.01\n",
    "    ),  # Quadrant of significant at 1% (0 otherwise)\n",
    "    index=pop_values.index,  # Index from the Series and aligned with `w_surface`\n",
    ")"
   ]
  },
  {
   "cell_type": "code",
   "execution_count": null,
   "metadata": {
    "id": "pUcXnLw4roCi"
   },
   "outputs": [],
   "source": [
    "# Build `DataArray` from a set of values and weights\n",
    "lisa_da = raster.w2da(\n",
    "    sig_pop,  # Values\n",
    "    w_surface,  # Spatial weights\n",
    "    attrs={\n",
    "        \"nodatavals\": [pop.rio.nodata]\n",
    "    }  # Value for missing data\n",
    "    # Add CRS information in a compliant manner\n",
    ").rio.write_crs(pop.rio.crs)"
   ]
  },
  {
   "cell_type": "code",
   "execution_count": null,
   "metadata": {
    "colab": {
     "base_uri": "https://localhost:8080/"
    },
    "executionInfo": {
     "elapsed": 9,
     "status": "ok",
     "timestamp": 1747673039943,
     "user": {
      "displayName": "Kevin Cheng",
      "userId": "12501819886626332022"
     },
     "user_tz": -480
    },
    "id": "8Y8cnPvNrpDb",
    "outputId": "6c98ecee-29ab-4a68-efee-ba1bcbb4ff9e"
   },
   "outputs": [],
   "source": [
    "lisa_da.to_series().unique()"
   ]
  },
  {
   "cell_type": "code",
   "execution_count": null,
   "metadata": {
    "id": "RpjiJwgkrrdG"
   },
   "outputs": [],
   "source": [
    "from matplotlib.colors import ListedColormap"
   ]
  },
  {
   "cell_type": "code",
   "execution_count": null,
   "metadata": {
    "id": "Ik8TjQx1rsoq"
   },
   "outputs": [],
   "source": [
    "# LISA colors\n",
    "lc = {\n",
    "    \"ns\": \"lightgrey\",  # Values of 0\n",
    "    \"HH\": \"#d7191c\",  # Values of 1\n",
    "    \"LH\": \"#abd9e9\",  # Values of 2\n",
    "    \"LL\": \"#2c7bb6\",  # Values of 3\n",
    "    \"HL\": \"#fdae61\",  # Values of 4\n",
    "}"
   ]
  },
  {
   "cell_type": "code",
   "execution_count": null,
   "metadata": {
    "colab": {
     "base_uri": "https://localhost:8080/",
     "height": 122
    },
    "executionInfo": {
     "elapsed": 2,
     "status": "ok",
     "timestamp": 1747673039949,
     "user": {
      "displayName": "Kevin Cheng",
      "userId": "12501819886626332022"
     },
     "user_tz": -480
    },
    "id": "G8GuNE-LruP0",
    "outputId": "5c2300ed-4c3d-4486-d0ff-da1b440b0f58"
   },
   "outputs": [],
   "source": [
    "lisa_cmap = ListedColormap(\n",
    "    [lc[\"ns\"], lc[\"HH\"], lc[\"LH\"], lc[\"LL\"], lc[\"HL\"]]\n",
    ")\n",
    "lisa_cmap"
   ]
  },
  {
   "cell_type": "code",
   "execution_count": null,
   "metadata": {
    "colab": {
     "base_uri": "https://localhost:8080/",
     "height": 557
    },
    "executionInfo": {
     "elapsed": 7846,
     "status": "ok",
     "timestamp": 1747673047795,
     "user": {
      "displayName": "Kevin Cheng",
      "userId": "12501819886626332022"
     },
     "user_tz": -480
    },
    "id": "yc4_bgq9rvNc",
    "outputId": "4d72189f-19ee-4b70-84e4-7493060bb524"
   },
   "outputs": [],
   "source": [
    "# Set up figure and axis\n",
    "f, axs = plt.subplots(1, 2, figsize=(12, 6))\n",
    "# Subplot 1 #\n",
    "# Select pixels that do not have the `nodata` value\n",
    "# (ie. they are not missing data)\n",
    "pop.where(\n",
    "    pop\n",
    "    != pop.rio.nodata\n",
    "    # Plot surface with a horizontal colorbar\n",
    ").plot(\n",
    "    ax=axs[0],\n",
    "    add_colorbar=False,  # , cbar_kwargs={\"orientation\": \"horizontal\"}\n",
    ")\n",
    "# Subplot 2 #\n",
    "# Select pixels with no missing data and rescale to [0, 1] by\n",
    "# dividing by 4 (maximum value in `lisa_da`)\n",
    "(\n",
    "    lisa_da.where(lisa_da != -200)\n",
    "    / 4\n",
    "    # Plot surface without a colorbar\n",
    ").plot(cmap=lisa_cmap, ax=axs[1], add_colorbar=False)\n",
    "# Aesthetics #\n",
    "# Subplot titles\n",
    "titles = [\"Population by pixel\", \"Population clusters\"]\n",
    "# Apply the following to each of the two subplots\n",
    "for i in range(2):\n",
    "    # Keep proportion of axes\n",
    "    axs[i].axis(\"equal\")\n",
    "    # Remove axis\n",
    "    axs[i].set_axis_off()\n",
    "    # Add title\n",
    "    axs[i].set_title(titles[i])\n",
    "    # Add basemap\n",
    "    contextily.add_basemap(axs[i], crs=lisa_da.rio.crs)"
   ]
  },
  {
   "cell_type": "code",
   "execution_count": null,
   "metadata": {
    "id": "qnms0OVSrwVx"
   },
   "outputs": [],
   "source": []
  }
 ],
 "metadata": {
  "colab": {
   "provenance": [
    {
     "file_id": "1HdQ7uS1FIpOHV9JCg5bRaTWxi8RX-SJS",
     "timestamp": 1747222969593
    },
    {
     "file_id": "18CEziKjafsBUMIZRtfUHbtb9lU8WDQnn",
     "timestamp": 1747205862906
    },
    {
     "file_id": "1d4ox2Zpqc0ass9pHsf97RNI04DpQ-nM7",
     "timestamp": 1747115165505
    }
   ]
  },
  "kernelspec": {
   "display_name": "Python 3",
   "name": "python3"
  },
  "language_info": {
   "name": "python"
  }
 },
 "nbformat": 4,
 "nbformat_minor": 0
}
