{
 "cells": [
  {
   "cell_type": "markdown",
   "metadata": {
    "id": "uP7QXI-_QwQy"
   },
   "source": [
    "[![Open In Colab](https://colab.research.google.com/assets/colab-badge.svg)](https://colab.research.google.com/github/kevin7261/Geographic-Data-Science-with-Python/blob/main/Choropleth_Mapping.ipynb)"
   ]
  },
  {
   "cell_type": "markdown",
   "metadata": {
    "id": "rq-IdVKELXzp"
   },
   "source": [
    "# ChoroplethMapping\n",
    "\n",
    "https://geographicdata.science/book/notebooks/05_choropleth.html\n",
    "\n",
    "[台北市里界圖](https://data.taipei/dataset/detail?id=6b17b31d-4e16-495e-95b1-9fd1f47c80d8)"
   ]
  },
  {
   "cell_type": "code",
   "execution_count": null,
   "metadata": {
    "cellView": "form",
    "executionInfo": {
     "elapsed": 38,
     "status": "ok",
     "timestamp": 1747734943545,
     "user": {
      "displayName": "Kevin Cheng",
      "userId": "12501819886626332022"
     },
     "user_tz": -480
    },
    "id": "xtQzzcQ17UOw"
   },
   "outputs": [],
   "source": [
    "# @title 初始值設定\n",
    "\n",
    "PROJECT_NAME = \"臺北市_村里_綜稅綜合所得總額\"\n",
    "GPKG_FILE_PATH = \"https://drive.google.com/file/d/1cmW_VxEyyRZ9xILM_7Blq98r7B40SwqA/view?usp=sharing\""
   ]
  },
  {
   "cell_type": "code",
   "execution_count": null,
   "metadata": {
    "cellView": "form",
    "executionInfo": {
     "elapsed": 6550,
     "status": "ok",
     "timestamp": 1747734950081,
     "user": {
      "displayName": "Kevin Cheng",
      "userId": "12501819886626332022"
     },
     "user_tz": -480
    },
    "id": "5AlFV54VvTd0"
   },
   "outputs": [],
   "source": [
    "# @title 下載台北思源黑體\n",
    "\n",
    "# 下載台北思源黑體，並隱藏輸出\n",
    "!wget -q -O TaipeiSansTCBeta-Regular.ttf https://drive.google.com/uc?id=1eGAsTN1HBpJAkeVM57_C7ccp7hbgSz3_&export=download\n",
    "\n",
    "# 匯入必要的庫\n",
    "import matplotlib as mpl\n",
    "import matplotlib.pyplot as plt\n",
    "from matplotlib.font_manager import fontManager\n",
    "\n",
    "# 新增字體\n",
    "fontManager.addfont('TaipeiSansTCBeta-Regular.ttf')\n",
    "\n",
    "# 設定字體\n",
    "mpl.rc('font', family='Taipei Sans TC Beta')\n"
   ]
  },
  {
   "cell_type": "code",
   "execution_count": null,
   "metadata": {
    "cellView": "form",
    "executionInfo": {
     "elapsed": 4369,
     "status": "ok",
     "timestamp": 1747734954451,
     "user": {
      "displayName": "Kevin Cheng",
      "userId": "12501819886626332022"
     },
     "user_tz": -480
    },
    "id": "8EPcE80spK5c"
   },
   "outputs": [],
   "source": [
    "# @title 安裝套件\n",
    "\n",
    "!pip install -q geopandas gdown pysal"
   ]
  },
  {
   "cell_type": "markdown",
   "metadata": {
    "id": "S32RSo5dDSei"
   },
   "source": [
    "---"
   ]
  },
  {
   "cell_type": "code",
   "execution_count": null,
   "metadata": {
    "cellView": "form",
    "colab": {
     "base_uri": "https://localhost:8080/"
    },
    "executionInfo": {
     "elapsed": 4163,
     "status": "ok",
     "timestamp": 1747734958614,
     "user": {
      "displayName": "Kevin Cheng",
      "userId": "12501819886626332022"
     },
     "user_tz": -480
    },
    "id": "s5pXxBrOlnr7",
    "outputId": "d31ef55a-3a43-404a-d1c9-92d7ddce71e7"
   },
   "outputs": [],
   "source": [
    "# @title read_shape_file\n",
    "\n",
    "import geopandas as gpd\n",
    "import gdown\n",
    "import os\n",
    "\n",
    "SPREADSHEET_ID = GPKG_FILE_PATH.split(\"/d/\")[1].split(\"/\")[0]\n",
    "\n",
    "def read_shape_file():\n",
    "\n",
    "    # ✅ 設定下載與儲存路徑\n",
    "    gpkg_path = f\"{PROJECT_NAME}.gpkg\"\n",
    "\n",
    "    # ✅ 下載 .gpkg 檔案（從 Google Drive）\n",
    "    gdown.download(\n",
    "        url=f\"https://drive.google.com/uc?id={SPREADSHEET_ID}\",\n",
    "        output=gpkg_path,\n",
    "        quiet=True\n",
    "    )\n",
    "\n",
    "    # ✅ 使用 GeoPandas 自動讀取第一層\n",
    "    gdf = gpd.read_file(gpkg_path)\n",
    "\n",
    "    # ✅ 顯示 GeoDataFrame 頭部\n",
    "    print(\"📋 GeoDataFrame 頭部：\")\n",
    "    print(gdf.head())\n",
    "\n",
    "    return gdf\n",
    "\n",
    "# ✅ 執行\n",
    "gdf = read_shape_file()"
   ]
  },
  {
   "cell_type": "markdown",
   "metadata": {
    "id": "dh1en93JDAhK"
   },
   "source": [
    "# Principles"
   ]
  },
  {
   "cell_type": "code",
   "execution_count": null,
   "metadata": {
    "cellView": "form",
    "executionInfo": {
     "elapsed": 7,
     "status": "ok",
     "timestamp": 1747734958616,
     "user": {
      "displayName": "Kevin Cheng",
      "userId": "12501819886626332022"
     },
     "user_tz": -480
    },
    "id": "FhqDTCS-_eHE"
   },
   "outputs": [],
   "source": [
    "# @title 匯入函式庫\n",
    "\n",
    "import seaborn\n",
    "import pandas\n",
    "import geopandas\n",
    "import pysal\n",
    "import numpy\n",
    "import matplotlib.pyplot as plt"
   ]
  },
  {
   "cell_type": "markdown",
   "metadata": {
    "id": "ImVnfV4GBqAg"
   },
   "source": [
    "## 資料集\n",
    "\n",
    "1. 臺北市_村里_綜稅綜合所得總額 (gpkg)"
   ]
  },
  {
   "cell_type": "markdown",
   "metadata": {
    "id": "tXe_k6Mz_hF1"
   },
   "source": [
    "# Quantitative data classification"
   ]
  },
  {
   "cell_type": "code",
   "execution_count": null,
   "metadata": {
    "colab": {
     "base_uri": "https://localhost:8080/",
     "height": 206
    },
    "executionInfo": {
     "elapsed": 333,
     "status": "ok",
     "timestamp": 1747734958946,
     "user": {
      "displayName": "Kevin Cheng",
      "userId": "12501819886626332022"
     },
     "user_tz": -480
    },
    "id": "NNQT_9nXAkED",
    "outputId": "b86f3150-86d5-4938-dc1e-61bbeb6d7833"
   },
   "outputs": [],
   "source": [
    "mx = geopandas.read_file(f\"{PROJECT_NAME}.gpkg\")\n",
    "mx[[\"FULL\", \"中位數\"]].head()"
   ]
  },
  {
   "cell_type": "code",
   "execution_count": null,
   "metadata": {
    "colab": {
     "base_uri": "https://localhost:8080/",
     "height": 449
    },
    "executionInfo": {
     "elapsed": 541,
     "status": "ok",
     "timestamp": 1747734959489,
     "user": {
      "displayName": "Kevin Cheng",
      "userId": "12501819886626332022"
     },
     "user_tz": -480
    },
    "id": "a12D1eaNA-3Q",
    "outputId": "cd7730b4-756d-451a-ed4d-34651863a517"
   },
   "outputs": [],
   "source": [
    "# Plot histogram\n",
    "ax = seaborn.histplot(mx[\"中位數\"], bins=5)\n",
    "# Add rug on horizontal axis\n",
    "seaborn.rugplot(mx[\"中位數\"], height=0.05, color=\"red\", ax=ax);"
   ]
  },
  {
   "cell_type": "code",
   "execution_count": null,
   "metadata": {
    "colab": {
     "base_uri": "https://localhost:8080/",
     "height": 335
    },
    "executionInfo": {
     "elapsed": 3,
     "status": "ok",
     "timestamp": 1747734959490,
     "user": {
      "displayName": "Kevin Cheng",
      "userId": "12501819886626332022"
     },
     "user_tz": -480
    },
    "id": "CSGGNpzSBaks",
    "outputId": "85868e94-822c-4f65-9e34-032dacdb413f"
   },
   "outputs": [],
   "source": [
    "mx[\"中位數\"].describe()"
   ]
  },
  {
   "cell_type": "code",
   "execution_count": null,
   "metadata": {
    "executionInfo": {
     "elapsed": 70,
     "status": "ok",
     "timestamp": 1747734959572,
     "user": {
      "displayName": "Kevin Cheng",
      "userId": "12501819886626332022"
     },
     "user_tz": -480
    },
    "id": "4y9R40XGBc2Q"
   },
   "outputs": [],
   "source": [
    "counts, bins, patches = ax.hist(mx[\"中位數\"], bins=5)"
   ]
  },
  {
   "cell_type": "code",
   "execution_count": null,
   "metadata": {
    "colab": {
     "base_uri": "https://localhost:8080/"
    },
    "executionInfo": {
     "elapsed": 37,
     "status": "ok",
     "timestamp": 1747734959610,
     "user": {
      "displayName": "Kevin Cheng",
      "userId": "12501819886626332022"
     },
     "user_tz": -480
    },
    "id": "Mar_ELkxBenC",
    "outputId": "8f10032a-ce21-40eb-bf28-df01108ab0cd"
   },
   "outputs": [],
   "source": [
    "counts # 數量"
   ]
  },
  {
   "cell_type": "code",
   "execution_count": null,
   "metadata": {
    "colab": {
     "base_uri": "https://localhost:8080/"
    },
    "executionInfo": {
     "elapsed": 2,
     "status": "ok",
     "timestamp": 1747734959612,
     "user": {
      "displayName": "Kevin Cheng",
      "userId": "12501819886626332022"
     },
     "user_tz": -480
    },
    "id": "GgJR4IimBfjv",
    "outputId": "ec93b8c3-f5c5-479a-99a3-17e39bcfca08"
   },
   "outputs": [],
   "source": [
    "bins # 斷點"
   ]
  },
  {
   "cell_type": "code",
   "execution_count": null,
   "metadata": {
    "executionInfo": {
     "elapsed": 0,
     "status": "ok",
     "timestamp": 1747734959612,
     "user": {
      "displayName": "Kevin Cheng",
      "userId": "12501819886626332022"
     },
     "user_tz": -480
    },
    "id": "gpuRWCm2Bgpq"
   },
   "outputs": [],
   "source": [
    "import mapclassify"
   ]
  },
  {
   "cell_type": "markdown",
   "metadata": {
    "id": "dBA_MLH3_mqr"
   },
   "source": [
    "## Equal intervals"
   ]
  },
  {
   "cell_type": "code",
   "execution_count": null,
   "metadata": {
    "colab": {
     "base_uri": "https://localhost:8080/"
    },
    "executionInfo": {
     "elapsed": 16,
     "status": "ok",
     "timestamp": 1747734959636,
     "user": {
      "displayName": "Kevin Cheng",
      "userId": "12501819886626332022"
     },
     "user_tz": -480
    },
    "id": "3QdFt5xnBihv",
    "outputId": "24e6bc67-7efa-4b6e-e55e-00d42458ded5"
   },
   "outputs": [],
   "source": [
    "ei5 = mapclassify.EqualInterval(mx[\"中位數\"], k=5)\n",
    "ei5"
   ]
  },
  {
   "cell_type": "markdown",
   "metadata": {
    "id": "kslKM2F0_p6z"
   },
   "source": [
    "## Quantiles 分位數"
   ]
  },
  {
   "cell_type": "code",
   "execution_count": null,
   "metadata": {
    "colab": {
     "base_uri": "https://localhost:8080/"
    },
    "executionInfo": {
     "elapsed": 13,
     "status": "ok",
     "timestamp": 1747734959649,
     "user": {
      "displayName": "Kevin Cheng",
      "userId": "12501819886626332022"
     },
     "user_tz": -480
    },
    "id": "DDEkFBodBkBx",
    "outputId": "d6942105-1dce-4e26-8f11-1a077210353a"
   },
   "outputs": [],
   "source": [
    "q5 = mapclassify.Quantiles(mx.中位數, k=5)\n",
    "q5"
   ]
  },
  {
   "cell_type": "code",
   "execution_count": null,
   "metadata": {
    "colab": {
     "base_uri": "https://localhost:8080/"
    },
    "executionInfo": {
     "elapsed": 13,
     "status": "ok",
     "timestamp": 1747734959663,
     "user": {
      "displayName": "Kevin Cheng",
      "userId": "12501819886626332022"
     },
     "user_tz": -480
    },
    "id": "65W9XTEmBlbl",
    "outputId": "7073c37d-ce9a-4232-eb15-4f2a7e93b134"
   },
   "outputs": [],
   "source": [
    "q5.bins[1:] - q5.bins[:-1]"
   ]
  },
  {
   "cell_type": "code",
   "execution_count": null,
   "metadata": {
    "colab": {
     "base_uri": "https://localhost:8080/"
    },
    "executionInfo": {
     "elapsed": 13,
     "status": "ok",
     "timestamp": 1747734959677,
     "user": {
      "displayName": "Kevin Cheng",
      "userId": "12501819886626332022"
     },
     "user_tz": -480
    },
    "id": "mdkyp2zuBnpN",
    "outputId": "ee6bdbf8-4e49-43af-f7a5-475f8634d86e"
   },
   "outputs": [],
   "source": [
    "# 隨機產生資料\n",
    "\n",
    "# Set seed for reproducibility\n",
    "numpy.random.seed(12345)\n",
    "# Generate a variable of 20 values randomly\n",
    "# selected from 0 to 10\n",
    "x = numpy.random.randint(0, 10, 20)\n",
    "# Manually ensure the first ten values are 0 (the\n",
    "# minimum value)\n",
    "x[0:10] = x.min()\n",
    "x"
   ]
  },
  {
   "cell_type": "code",
   "execution_count": null,
   "metadata": {
    "colab": {
     "base_uri": "https://localhost:8080/"
    },
    "executionInfo": {
     "elapsed": 12,
     "status": "ok",
     "timestamp": 1747734959701,
     "user": {
      "displayName": "Kevin Cheng",
      "userId": "12501819886626332022"
     },
     "user_tz": -480
    },
    "id": "gSRebeR7BqHW",
    "outputId": "12585c35-bc9a-47dd-ca6e-4c712b97abee"
   },
   "outputs": [],
   "source": [
    "ties = mapclassify.Quantiles(x, k=5)\n",
    "ties"
   ]
  },
  {
   "cell_type": "code",
   "execution_count": null,
   "metadata": {
    "colab": {
     "base_uri": "https://localhost:8080/"
    },
    "executionInfo": {
     "elapsed": 12,
     "status": "ok",
     "timestamp": 1747734959714,
     "user": {
      "displayName": "Kevin Cheng",
      "userId": "12501819886626332022"
     },
     "user_tz": -480
    },
    "id": "V8av-iGEBsFS",
    "outputId": "c1003158-3818-4043-e237-c0c2b353e2da"
   },
   "outputs": [],
   "source": [
    "ux = numpy.unique(x)\n",
    "ux"
   ]
  },
  {
   "cell_type": "markdown",
   "metadata": {
    "id": "-Lfv_nqe_t1y"
   },
   "source": [
    "## Mean-standard deviation 平均標準差"
   ]
  },
  {
   "cell_type": "code",
   "execution_count": null,
   "metadata": {
    "colab": {
     "base_uri": "https://localhost:8080/"
    },
    "executionInfo": {
     "elapsed": 24,
     "status": "ok",
     "timestamp": 1747734959739,
     "user": {
      "displayName": "Kevin Cheng",
      "userId": "12501819886626332022"
     },
     "user_tz": -480
    },
    "id": "LQCYgaEYBtWI",
    "outputId": "5df60dd0-14bc-49d6-8002-4fe931852071"
   },
   "outputs": [],
   "source": [
    "msd = mapclassify.StdMean(mx[\"中位數\"])\n",
    "msd"
   ]
  },
  {
   "cell_type": "markdown",
   "metadata": {
    "id": "KYYO8V6n_xEN"
   },
   "source": [
    "## Maximum breaks"
   ]
  },
  {
   "cell_type": "code",
   "execution_count": null,
   "metadata": {
    "colab": {
     "base_uri": "https://localhost:8080/"
    },
    "executionInfo": {
     "elapsed": 7,
     "status": "ok",
     "timestamp": 1747734959747,
     "user": {
      "displayName": "Kevin Cheng",
      "userId": "12501819886626332022"
     },
     "user_tz": -480
    },
    "id": "3ktjpoy6BvXN",
    "outputId": "20894849-c599-4a5b-aabc-73a30449d22d"
   },
   "outputs": [],
   "source": [
    "mb5 = mapclassify.MaximumBreaks(mx[\"中位數\"], k=5)\n",
    "mb5"
   ]
  },
  {
   "cell_type": "markdown",
   "metadata": {
    "id": "ou28A0ew_z65"
   },
   "source": [
    "## Boxplot"
   ]
  },
  {
   "cell_type": "code",
   "execution_count": null,
   "metadata": {
    "colab": {
     "base_uri": "https://localhost:8080/"
    },
    "executionInfo": {
     "elapsed": 18,
     "status": "ok",
     "timestamp": 1747734959765,
     "user": {
      "displayName": "Kevin Cheng",
      "userId": "12501819886626332022"
     },
     "user_tz": -480
    },
    "id": "-M1QqdjTBxXf",
    "outputId": "d532b035-d6f1-4a13-b681-8c157cb705e3"
   },
   "outputs": [],
   "source": [
    "bp = mapclassify.BoxPlot(mx[\"中位數\"])\n",
    "bp"
   ]
  },
  {
   "cell_type": "code",
   "execution_count": null,
   "metadata": {
    "colab": {
     "base_uri": "https://localhost:8080/"
    },
    "executionInfo": {
     "elapsed": 10,
     "status": "ok",
     "timestamp": 1747734959775,
     "user": {
      "displayName": "Kevin Cheng",
      "userId": "12501819886626332022"
     },
     "user_tz": -480
    },
    "id": "8ny9xqQ-BzDT",
    "outputId": "5ce36ac6-4a80-45d3-8a41-d35aa06fc7a9"
   },
   "outputs": [],
   "source": [
    "bp1 = mapclassify.BoxPlot(mx[\"中位數\"], hinge=1)\n",
    "bp1"
   ]
  },
  {
   "cell_type": "markdown",
   "metadata": {
    "id": "MVt8T16R_27Y"
   },
   "source": [
    "## Head-tail breaks"
   ]
  },
  {
   "cell_type": "code",
   "execution_count": null,
   "metadata": {
    "colab": {
     "base_uri": "https://localhost:8080/"
    },
    "executionInfo": {
     "elapsed": 6,
     "status": "ok",
     "timestamp": 1747734959782,
     "user": {
      "displayName": "Kevin Cheng",
      "userId": "12501819886626332022"
     },
     "user_tz": -480
    },
    "id": "Nr_4ETFjB0nr",
    "outputId": "f033bc06-b9b0-4df9-a7c7-dcd082ed9e5c"
   },
   "outputs": [],
   "source": [
    "ht = mapclassify.HeadTailBreaks(mx[\"中位數\"])\n",
    "ht"
   ]
  },
  {
   "cell_type": "markdown",
   "metadata": {
    "id": "6Rr8U6dv_5Gz"
   },
   "source": [
    "## Jenks-Caspall breaks"
   ]
  },
  {
   "cell_type": "code",
   "execution_count": null,
   "metadata": {
    "colab": {
     "base_uri": "https://localhost:8080/"
    },
    "executionInfo": {
     "elapsed": 3,
     "status": "ok",
     "timestamp": 1747734959786,
     "user": {
      "displayName": "Kevin Cheng",
      "userId": "12501819886626332022"
     },
     "user_tz": -480
    },
    "id": "elkFPLESB2e7",
    "outputId": "16f348ab-5db1-418b-e59a-576cab86aa82"
   },
   "outputs": [],
   "source": [
    "numpy.random.seed(12345)\n",
    "jc5 = mapclassify.JenksCaspall(mx[\"中位數\"], k=5)\n",
    "jc5"
   ]
  },
  {
   "cell_type": "markdown",
   "metadata": {
    "id": "WYniU5Qc_76E"
   },
   "source": [
    "## Fisher-Jenks breaks"
   ]
  },
  {
   "cell_type": "code",
   "execution_count": null,
   "metadata": {
    "colab": {
     "base_uri": "https://localhost:8080/"
    },
    "executionInfo": {
     "elapsed": 1,
     "status": "ok",
     "timestamp": 1747734959795,
     "user": {
      "displayName": "Kevin Cheng",
      "userId": "12501819886626332022"
     },
     "user_tz": -480
    },
    "id": "umHwtmjsB4Kj",
    "outputId": "0ccd662d-5500-4404-b346-4812439472ba"
   },
   "outputs": [],
   "source": [
    "numpy.random.seed(12345)\n",
    "fj5 = mapclassify.FisherJenks(mx[\"中位數\"], k=5)\n",
    "fj5"
   ]
  },
  {
   "cell_type": "markdown",
   "metadata": {
    "id": "smmJ04Pm_-Iu"
   },
   "source": [
    "## Max-p"
   ]
  },
  {
   "cell_type": "code",
   "execution_count": null,
   "metadata": {
    "colab": {
     "base_uri": "https://localhost:8080/"
    },
    "executionInfo": {
     "elapsed": 31464,
     "status": "ok",
     "timestamp": 1747734991263,
     "user": {
      "displayName": "Kevin Cheng",
      "userId": "12501819886626332022"
     },
     "user_tz": -480
    },
    "id": "fbweQp5-B5yM",
    "outputId": "a01ef1ab-9b81-4823-f6c8-89473e64bdf2"
   },
   "outputs": [],
   "source": [
    "mp5 = mapclassify.MaxP(mx[\"中位數\"], k=5)\n",
    "mp5"
   ]
  },
  {
   "cell_type": "markdown",
   "metadata": {
    "id": "thtNmiBsAAst"
   },
   "source": [
    "## Comparing classification schemes"
   ]
  },
  {
   "cell_type": "code",
   "execution_count": null,
   "metadata": {
    "colab": {
     "base_uri": "https://localhost:8080/",
     "height": 558
    },
    "executionInfo": {
     "elapsed": 402,
     "status": "ok",
     "timestamp": 1747734991661,
     "user": {
      "displayName": "Kevin Cheng",
      "userId": "12501819886626332022"
     },
     "user_tz": -480
    },
    "id": "BC5icu9CB7YA",
    "outputId": "dc0d8d47-374a-4e4a-bb0c-b0311819a60f"
   },
   "outputs": [],
   "source": [
    "# 計算ADCM (absolute deviation around class medians)，越低越好\n",
    "\n",
    "# Bunch classifier objects\n",
    "class5 = q5, ei5, ht, mb5, msd, fj5, jc5, mp5\n",
    "# Collect ADCM for each classifier\n",
    "fits = numpy.array([c.adcm for c in class5])\n",
    "# Convert ADCM scores to a DataFrame\n",
    "adcms = pandas.DataFrame(fits)\n",
    "# Add classifier names\n",
    "adcms[\"classifier\"] = [c.name for c in class5]\n",
    "# Add column names to the ADCM\n",
    "adcms.columns = [\"ADCM\", \"Classifier\"]\n",
    "ax = seaborn.barplot(\n",
    "    y=\"Classifier\", x=\"ADCM\", data=adcms, palette=\"Pastel1\"\n",
    ")"
   ]
  },
  {
   "cell_type": "code",
   "execution_count": null,
   "metadata": {
    "executionInfo": {
     "elapsed": 2,
     "status": "ok",
     "timestamp": 1747734991661,
     "user": {
      "displayName": "Kevin Cheng",
      "userId": "12501819886626332022"
     },
     "user_tz": -480
    },
    "id": "mbLPbqJXCEkw"
   },
   "outputs": [],
   "source": [
    "# Append class values as a separate column\n",
    "mx[\"Quantiles\"] = q5.yb\n",
    "mx[\"Equal Interval\"] = ei5.yb\n",
    "mx[\"Head-Tail Breaks\"] = ht.yb\n",
    "mx[\"Maximum Breaks\"] = mb5.yb\n",
    "mx[\"Mean-Standard Deviation\"] = msd.yb\n",
    "mx[\"Fisher-Jenks\"] = fj5.yb\n",
    "mx[\"Jenks Caspall\"] = jc5.yb\n",
    "mx[\"MaxP\"] = mp5.yb"
   ]
  },
  {
   "cell_type": "code",
   "execution_count": null,
   "metadata": {
    "colab": {
     "base_uri": "https://localhost:8080/",
     "height": 91
    },
    "executionInfo": {
     "elapsed": 4701,
     "status": "ok",
     "timestamp": 1747734996361,
     "user": {
      "displayName": "Kevin Cheng",
      "userId": "12501819886626332022"
     },
     "user_tz": -480
    },
    "id": "d10pwdZVCEyn",
    "outputId": "45f43cc4-6410-419e-c4da-80ef40bd09e9"
   },
   "outputs": [],
   "source": [
    "#f, ax = plt.subplots(1, figsize=(9, 3))\n",
    "f, ax = plt.subplots(1, figsize=(90, 3))\n",
    "seaborn.heatmap(\n",
    "    mx.set_index(\"FULL\")\n",
    "    .sort_values(\"中位數\")[\n",
    "        [\n",
    "            \"Head-Tail Breaks\",\n",
    "            \"Fisher-Jenks\",\n",
    "            \"Maximum Breaks\",\n",
    "            \"Equal Interval\",\n",
    "            \"MaxP\",\n",
    "            \"Quantiles\",\n",
    "            \"Jenks Caspall\",\n",
    "            \"Mean-Standard Deviation\",\n",
    "        ]\n",
    "    ]\n",
    "    .T,\n",
    "    cmap=\"YlGn\",\n",
    "    cbar=False,\n",
    "    ax=ax,\n",
    ")\n",
    "ax.set_xlabel(\"State ID\");"
   ]
  },
  {
   "cell_type": "code",
   "execution_count": null,
   "metadata": {
    "colab": {
     "base_uri": "https://localhost:8080/",
     "height": 206
    },
    "executionInfo": {
     "elapsed": 9,
     "status": "ok",
     "timestamp": 1747734996370,
     "user": {
      "displayName": "Kevin Cheng",
      "userId": "12501819886626332022"
     },
     "user_tz": -480
    },
    "id": "RfFgJ21gQXoC",
    "outputId": "fc9ff84d-dd32-43aa-f53b-76114540edb2"
   },
   "outputs": [],
   "source": [
    "# ✅ 建立修正後的 class5，確保每個 c.counts 長度為 5（多的截斷、少的補 NaN）\n",
    "class5_fixed = []\n",
    "\n",
    "for c in class5:\n",
    "    counts = list(c.counts)\n",
    "    # 若群數少於 5 → 補 NaN\n",
    "    while len(counts) < 5:\n",
    "        counts.append(float(\"nan\"))\n",
    "    # 若群數多於 5 → 截斷\n",
    "    counts = counts[:5]\n",
    "\n",
    "    # 模擬一個物件，具有 c.name 和截斷後 counts 屬性\n",
    "    class Fixed:\n",
    "        pass\n",
    "\n",
    "    fixed = Fixed()\n",
    "    fixed.name = c.name\n",
    "    fixed.counts = counts\n",
    "    class5_fixed.append(fixed)\n",
    "\n",
    "# ✅ 完全照你要求的寫法建立表格\n",
    "pandas.DataFrame(\n",
    "    {c.name: c.counts for c in class5_fixed},\n",
    "    index=[\"Class-{}\".format(i) for i in range(5)],\n",
    ")"
   ]
  },
  {
   "cell_type": "code",
   "execution_count": null,
   "metadata": {
    "executionInfo": {
     "elapsed": 1,
     "status": "ok",
     "timestamp": 1747734996372,
     "user": {
      "displayName": "Kevin Cheng",
      "userId": "12501819886626332022"
     },
     "user_tz": -480
    },
    "id": "EacGAGEVCFz_"
   },
   "outputs": [],
   "source": [
    "# pandas.DataFrame(\n",
    "#     {c.name: c.counts for c in class5},\n",
    "#     index=[\"Class-{}\".format(i) for i in range(5)],\n",
    "# )"
   ]
  },
  {
   "cell_type": "markdown",
   "metadata": {
    "id": "0-J80Z-_AHde"
   },
   "source": [
    "# Color"
   ]
  },
  {
   "cell_type": "code",
   "execution_count": null,
   "metadata": {
    "colab": {
     "base_uri": "https://localhost:8080/",
     "height": 406
    },
    "executionInfo": {
     "elapsed": 521,
     "status": "ok",
     "timestamp": 1747734996893,
     "user": {
      "displayName": "Kevin Cheng",
      "userId": "12501819886626332022"
     },
     "user_tz": -480
    },
    "id": "B-PBpE8rCHSA",
    "outputId": "9f0e141e-c8e0-4f21-effe-74d19e57d5b7"
   },
   "outputs": [],
   "source": [
    "ax = mx.plot(\n",
    "    column=\"中位數\",  # Data to plot\n",
    "    scheme=\"Quantiles\",  # Classification scheme\n",
    "    cmap=\"YlGn\",  # Color palette\n",
    "    legend=True,  # Add legend\n",
    "    legend_kwds={\"fmt\": \"{:.0f}\"},  # Remove decimals in legend\n",
    ")\n",
    "ax.set_axis_off();"
   ]
  },
  {
   "cell_type": "markdown",
   "metadata": {
    "id": "ZdcjXQyGANI5"
   },
   "source": [
    "## Sequential palettes"
   ]
  },
  {
   "cell_type": "code",
   "execution_count": null,
   "metadata": {
    "colab": {
     "base_uri": "https://localhost:8080/",
     "height": 406
    },
    "executionInfo": {
     "elapsed": 381,
     "status": "ok",
     "timestamp": 1747734997275,
     "user": {
      "displayName": "Kevin Cheng",
      "userId": "12501819886626332022"
     },
     "user_tz": -480
    },
    "id": "i4Rs8L9QCIsg",
    "outputId": "786985f5-fafe-4839-e322-6efc67d50549"
   },
   "outputs": [],
   "source": [
    "ax = mx.plot(\n",
    "    column=\"中位數\",  # Data to plot\n",
    "    scheme=\"Quantiles\",  # Classification scheme\n",
    "    cmap=\"Blues\",  # Color palette\n",
    "    edgecolor=\"k\",  # Borderline color\n",
    "    linewidth=0.1,  # Borderline width\n",
    "    legend=True,  # Add legend\n",
    "    legend_kwds={\n",
    "        \"fmt\": \"{:.0f}\"\n",
    "    },  # Remove decimals in legend (for legibility)\n",
    ")\n",
    "ax.set_axis_off();"
   ]
  },
  {
   "cell_type": "markdown",
   "metadata": {
    "id": "Ze18gCxVAP_Y"
   },
   "source": [
    "## Diverging palettes"
   ]
  },
  {
   "cell_type": "code",
   "execution_count": null,
   "metadata": {
    "executionInfo": {
     "elapsed": 1,
     "status": "ok",
     "timestamp": 1747734997278,
     "user": {
      "displayName": "Kevin Cheng",
      "userId": "12501819886626332022"
     },
     "user_tz": -480
    },
    "id": "KmFiRGx-CJ-e"
   },
   "outputs": [],
   "source": [
    "# Create income-based rank table (Rank 1 is highest)\n",
    "rnk = mx[[\"FULL\", \"中位數\", \"平均數\"]].rank(ascending=False)\n",
    "# Compute change from 中位數 to 平均數\n",
    "rnk[\"change\"] = rnk[\"中位數\"] - rnk[\"平均數\"]\n",
    "# Add column with bin class\n",
    "#rnk[\"class\"] = pandas.cut(rnk[\"change\"], [-numpy.inf, -5, 0, 5, 20])\n",
    "rnk[\"class\"] = pandas.cut(rnk[\"change\"], [-300, -50, 0, 50, 300])"
   ]
  },
  {
   "cell_type": "code",
   "execution_count": null,
   "metadata": {
    "colab": {
     "base_uri": "https://localhost:8080/",
     "height": 406
    },
    "executionInfo": {
     "elapsed": 306,
     "status": "ok",
     "timestamp": 1747734997585,
     "user": {
      "displayName": "Kevin Cheng",
      "userId": "12501819886626332022"
     },
     "user_tz": -480
    },
    "id": "bv39AwdJCLRM",
    "outputId": "161bc53a-498b-4666-a0be-f8922391b99e"
   },
   "outputs": [],
   "source": [
    "ax = (\n",
    "    mx[[\"geometry\"]]\n",
    "    .join(rnk)\n",
    "    .plot(\"class\", legend=True, cmap=\"RdYlGn\")\n",
    ")\n",
    "ax.set_axis_off();"
   ]
  },
  {
   "cell_type": "markdown",
   "metadata": {
    "id": "FkwHHR8HASyx"
   },
   "source": [
    "## Qualitative palettes"
   ]
  },
  {
   "cell_type": "code",
   "execution_count": null,
   "metadata": {
    "executionInfo": {
     "elapsed": 0,
     "status": "ok",
     "timestamp": 1747734997586,
     "user": {
      "displayName": "Kevin Cheng",
      "userId": "12501819886626332022"
     },
     "user_tz": -480
    },
    "id": "Hn5ADLFFYIU2"
   },
   "outputs": [],
   "source": [
    "mx[\"JenksCaspall\"] = jc5.yb # 儲存中位數分類"
   ]
  },
  {
   "cell_type": "code",
   "execution_count": null,
   "metadata": {
    "colab": {
     "base_uri": "https://localhost:8080/",
     "height": 241
    },
    "executionInfo": {
     "elapsed": 1,
     "status": "ok",
     "timestamp": 1747734997588,
     "user": {
      "displayName": "Kevin Cheng",
      "userId": "12501819886626332022"
     },
     "user_tz": -480
    },
    "id": "wvowJmLMCMK-",
    "outputId": "e5886be1-41d8-47fb-847b-9c2cbc071348"
   },
   "outputs": [],
   "source": [
    "mx[\"JenksCaspall\"].head()"
   ]
  },
  {
   "cell_type": "code",
   "execution_count": null,
   "metadata": {
    "colab": {
     "base_uri": "https://localhost:8080/",
     "height": 406
    },
    "executionInfo": {
     "elapsed": 363,
     "status": "ok",
     "timestamp": 1747734997957,
     "user": {
      "displayName": "Kevin Cheng",
      "userId": "12501819886626332022"
     },
     "user_tz": -480
    },
    "id": "AkuRjgQ1CN9k",
    "outputId": "f02aa09a-623e-468b-d845-e197ab5759a0"
   },
   "outputs": [],
   "source": [
    "ax = mx.plot(\"JenksCaspall\")\n",
    "ax.set_axis_off();"
   ]
  },
  {
   "cell_type": "code",
   "execution_count": null,
   "metadata": {
    "colab": {
     "base_uri": "https://localhost:8080/",
     "height": 406
    },
    "executionInfo": {
     "elapsed": 485,
     "status": "ok",
     "timestamp": 1747734998443,
     "user": {
      "displayName": "Kevin Cheng",
      "userId": "12501819886626332022"
     },
     "user_tz": -480
    },
    "id": "9Xs-wapFCOE1",
    "outputId": "098839bd-312a-4701-ccbb-43f59f81d6f8"
   },
   "outputs": [],
   "source": [
    "ax = mx.plot(\"JenksCaspall\", categorical=True, legend=True)\n",
    "ax.set_axis_off();"
   ]
  },
  {
   "cell_type": "markdown",
   "metadata": {
    "id": "yrz5ctM9AXYV"
   },
   "source": [
    "# Advanced topics"
   ]
  },
  {
   "cell_type": "markdown",
   "metadata": {
    "id": "gt161LLmAZ_5"
   },
   "source": [
    "## User-defined choropleths"
   ]
  },
  {
   "cell_type": "code",
   "execution_count": null,
   "metadata": {
    "colab": {
     "base_uri": "https://localhost:8080/"
    },
    "executionInfo": {
     "elapsed": 6,
     "status": "ok",
     "timestamp": 1747734998448,
     "user": {
      "displayName": "Kevin Cheng",
      "userId": "12501819886626332022"
     },
     "user_tz": -480
    },
    "id": "BysuCXwoCPZh",
    "outputId": "52094e9f-c78b-4cf6-8c1c-0c67d3e938d9"
   },
   "outputs": [],
   "source": [
    "classi = mapclassify.UserDefined(\n",
    "    #mx[\"平均數\"], [10000, 12500, 15000]\n",
    "    mx[\"平均數\"], [800, 1000, 1200]\n",
    ")\n",
    "classi"
   ]
  },
  {
   "cell_type": "code",
   "execution_count": null,
   "metadata": {
    "colab": {
     "base_uri": "https://localhost:8080/",
     "height": 406
    },
    "executionInfo": {
     "elapsed": 513,
     "status": "ok",
     "timestamp": 1747734998961,
     "user": {
      "displayName": "Kevin Cheng",
      "userId": "12501819886626332022"
     },
     "user_tz": -480
    },
    "id": "9KqcChvwCQis",
    "outputId": "4f587de0-9585-4041-9be3-fd9c2d225d95"
   },
   "outputs": [],
   "source": [
    "classi.plot(\n",
    "    mx,  # Use geometries in the geo-table\n",
    "    legend=True,  # Add a legend\n",
    "    legend_kwds={\n",
    "        \"loc\": \"upper right\"\n",
    "    },  # Place legend on top right corner\n",
    "    axis_on=False,  # Remove axis\n",
    "    cmap=\"viridis_r\",  # Use reverse Viridis\n",
    ");"
   ]
  },
  {
   "cell_type": "code",
   "execution_count": null,
   "metadata": {
    "colab": {
     "base_uri": "https://localhost:8080/",
     "height": 406
    },
    "executionInfo": {
     "elapsed": 500,
     "status": "ok",
     "timestamp": 1747734999460,
     "user": {
      "displayName": "Kevin Cheng",
      "userId": "12501819886626332022"
     },
     "user_tz": -480
    },
    "id": "cXUPJIAdCRgC",
    "outputId": "1ea5799c-02d0-4e16-ee9b-3bbeaeb136cc"
   },
   "outputs": [],
   "source": [
    "# Classify values specifying bins\n",
    "lbls = pandas.cut(\n",
    "    #mx[\"平均數\"], [-numpy.inf, 10000, 12500, 15000, numpy.inf]\n",
    "    mx[\"平均數\"], [-numpy.inf, 800, 1000, 1200, numpy.inf]\n",
    ")\n",
    "# Dynamically assign to geo-table and plot with a legend\n",
    "ax = mx.plot(lbls, cmap=\"viridis_r\", legend=True)\n",
    "# Remove axis\n",
    "ax.set_axis_off();"
   ]
  },
  {
   "cell_type": "markdown",
   "metadata": {
    "id": "-b4iY7JtAhaX"
   },
   "source": [
    "## Pooled classifications"
   ]
  },
  {
   "cell_type": "code",
   "execution_count": null,
   "metadata": {
    "executionInfo": {
     "elapsed": 1,
     "status": "ok",
     "timestamp": 1747734999461,
     "user": {
      "displayName": "Kevin Cheng",
      "userId": "12501819886626332022"
     },
     "user_tz": -480
    },
    "id": "yDTuorAfCSrH"
   },
   "outputs": [],
   "source": [
    "# List the years we want of pc GDP\n",
    "years = [\"中位數\", \"平均數\", \"第一分位數\", \"第三分位數\"]\n",
    "# Create pooled classification\n",
    "pooled = mapclassify.Pooled(mx[years], classifier=\"Quantiles\", k=5)"
   ]
  },
  {
   "cell_type": "code",
   "execution_count": null,
   "metadata": {
    "colab": {
     "base_uri": "https://localhost:8080/",
     "height": 1000
    },
    "executionInfo": {
     "elapsed": 2273,
     "status": "ok",
     "timestamp": 1747735001735,
     "user": {
      "displayName": "Kevin Cheng",
      "userId": "12501819886626332022"
     },
     "user_tz": -480
    },
    "id": "QBMwF3_lCUAP",
    "outputId": "bb2e98fb-97f5-4969-adc7-2a3dcee05e14"
   },
   "outputs": [],
   "source": [
    "# Set up figure with four axis\n",
    "f, axs = plt.subplots(2, 2, figsize=(12, 12))\n",
    "# Flatten the array of axis so you can loop over\n",
    "# in one dimension\n",
    "axs = axs.flatten()\n",
    "# Loop over each year\n",
    "for i, y in enumerate(years):\n",
    "    mx.plot(\n",
    "        y,  # Year to plot\n",
    "        scheme=\"UserDefined\",  # Use our own bins\n",
    "        classification_kwds={\n",
    "            \"bins\": pooled.global_classifier.bins\n",
    "        },  # Use global bins\n",
    "        legend=True,  # Add a legend\n",
    "        ax=axs[i],  # Plot on the corresponding axis\n",
    "    )\n",
    "    # Remove axis\n",
    "    axs[i].set_axis_off()\n",
    "    # Name the subplot with the name of the column\n",
    "    axs[i].set_title(y)\n",
    "# Tight layout to better use space\n",
    "plt.tight_layout()\n",
    "# Display figure\n",
    "plt.show()"
   ]
  },
  {
   "cell_type": "markdown",
   "metadata": {
    "id": "v3SfYW-mAkbP"
   },
   "source": [
    "# Conclusion"
   ]
  },
  {
   "cell_type": "code",
   "execution_count": null,
   "metadata": {
    "executionInfo": {
     "elapsed": 1,
     "status": "ok",
     "timestamp": 1747735001739,
     "user": {
      "displayName": "Kevin Cheng",
      "userId": "12501819886626332022"
     },
     "user_tz": -480
    },
    "id": "NDJhX5u6IftS"
   },
   "outputs": [],
   "source": []
  }
 ],
 "metadata": {
  "colab": {
   "provenance": [
    {
     "file_id": "1HdQ7uS1FIpOHV9JCg5bRaTWxi8RX-SJS",
     "timestamp": 1747467616519
    },
    {
     "file_id": "18CEziKjafsBUMIZRtfUHbtb9lU8WDQnn",
     "timestamp": 1747205862906
    },
    {
     "file_id": "1d4ox2Zpqc0ass9pHsf97RNI04DpQ-nM7",
     "timestamp": 1747115165505
    }
   ],
   "toc_visible": true
  },
  "kernelspec": {
   "display_name": "Python 3",
   "name": "python3"
  },
  "language_info": {
   "name": "python"
  }
 },
 "nbformat": 4,
 "nbformat_minor": 0
}
