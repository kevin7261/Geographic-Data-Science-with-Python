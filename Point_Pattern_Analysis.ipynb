{
 "cells": [
  {
   "cell_type": "markdown",
   "metadata": {
    "id": "rq-IdVKELXzp"
   },
   "source": [
    "# Point Pattern Analysis\n",
    "\n",
    "https://geographicdata.science/book/notebooks/08_point_pattern_analysis.html"
   ]
  },
  {
   "cell_type": "code",
   "execution_count": null,
   "metadata": {
    "id": "4GMCju8MJpkJ"
   },
   "outputs": [],
   "source": [
    "# @title 初始值設定\n",
    "\n",
    "PROJECT_NAME = \"15_台南市區\"\n",
    "\n",
    "DENGUE_DAILY_GSHEET_PATH = \"https://docs.google.com/spreadsheets/d/1vYyoq0Vf07kuWJU0Rg375jpHT9r9WzA2jiCPl3V3Oi4/edit?gid=2026372005#gid=2026372005\"\n",
    "GEOJSON_FILE_PATH = \"https://drive.google.com/file/d/1djyIaLyGPCoJNHt4Bgo-K6YZcr-5Mtys/view?usp=sharing\"\n",
    "WORKSHEET_NAME = PROJECT_NAME"
   ]
  },
  {
   "cell_type": "code",
   "execution_count": null,
   "metadata": {
    "cellView": "form",
    "id": "5AlFV54VvTd0"
   },
   "outputs": [],
   "source": [
    "# @title 下載台北思源黑體\n",
    "\n",
    "# 下載台北思源黑體，並隱藏輸出\n",
    "!wget -q -O TaipeiSansTCBeta-Regular.ttf https://drive.google.com/uc?id=1eGAsTN1HBpJAkeVM57_C7ccp7hbgSz3_&export=download\n",
    "\n",
    "# 匯入必要的庫\n",
    "import matplotlib as mpl\n",
    "import matplotlib.pyplot as plt\n",
    "from matplotlib.font_manager import fontManager\n",
    "\n",
    "# 新增字體\n",
    "fontManager.addfont('TaipeiSansTCBeta-Regular.ttf')\n",
    "\n",
    "# 設定字體\n",
    "mpl.rc('font', family='Taipei Sans TC Beta')\n"
   ]
  },
  {
   "cell_type": "code",
   "execution_count": null,
   "metadata": {
    "cellView": "form",
    "colab": {
     "base_uri": "https://localhost:8080/"
    },
    "executionInfo": {
     "elapsed": 32680,
     "status": "ok",
     "timestamp": 1747672544866,
     "user": {
      "displayName": "Kevin Cheng",
      "userId": "12501819886626332022"
     },
     "user_tz": -480
    },
    "id": "8EPcE80spK5c",
    "outputId": "369cf43d-3ce5-4613-8faf-11f082632040"
   },
   "outputs": [],
   "source": [
    "# @title 安裝套件\n",
    "\n",
    "!pip install -q geopandas gdown\n",
    "!pip install -q pysal splot contextily\n",
    "!pip install -q rioxarray rasterio xarray\n"
   ]
  },
  {
   "cell_type": "markdown",
   "metadata": {
    "id": "nq8Yj791JvoK"
   },
   "source": [
    "---"
   ]
  },
  {
   "cell_type": "markdown",
   "metadata": {
    "id": "HSWbkL30KICw"
   },
   "source": [
    "## Introduction"
   ]
  },
  {
   "cell_type": "markdown",
   "metadata": {
    "id": "O4NtRuPHKF8g"
   },
   "source": [
    "## Patterns in Tokyo photographs"
   ]
  },
  {
   "cell_type": "code",
   "execution_count": null,
   "metadata": {
    "cellView": "form",
    "id": "isc72Sjqq7Qw"
   },
   "outputs": [],
   "source": [
    "# @title 匯入函式庫\n",
    "\n",
    "import numpy\n",
    "import pandas\n",
    "import geopandas\n",
    "import pysal\n",
    "import seaborn\n",
    "import contextily\n",
    "import matplotlib.pyplot as plt\n",
    "from sklearn.cluster import DBSCAN"
   ]
  },
  {
   "cell_type": "markdown",
   "metadata": {
    "id": "Zr-Hx2fmKmgM"
   },
   "source": [
    "## 資料集\n",
    "\n",
    "1. 2015年台南市登革熱病例 (sheet)\n",
    "1. 台南市最小統計區 (shp)"
   ]
  },
  {
   "cell_type": "code",
   "execution_count": null,
   "metadata": {
    "colab": {
     "base_uri": "https://localhost:8080/"
    },
    "executionInfo": {
     "elapsed": 63125,
     "status": "ok",
     "timestamp": 1747672615643,
     "user": {
      "displayName": "Kevin Cheng",
      "userId": "12501819886626332022"
     },
     "user_tz": -480
    },
    "id": "YHPV1b5By131",
    "outputId": "b97a71fb-94dd-4b15-afec-3992558fbda2"
   },
   "outputs": [],
   "source": [
    "# @title 載入2015年台南市登革熱病例(gsheet)\n",
    "\n",
    "# ✅ 匯入套件\n",
    "import pandas as pd\n",
    "import gspread\n",
    "from google.colab import auth\n",
    "from google.auth import default\n",
    "from gspread_dataframe import get_as_dataframe\n",
    "\n",
    "SPREADSHEET_ID_GSHEET = DENGUE_DAILY_GSHEET_PATH.split(\"/d/\")[1].split(\"/\")[0]\n",
    "\n",
    "# ✅ 認證授權\n",
    "auth.authenticate_user()\n",
    "creds, _ = default()\n",
    "gc = gspread.authorize(creds)\n",
    "\n",
    "# ✅ 開啟工作表\n",
    "sh = gc.open_by_key(SPREADSHEET_ID_GSHEET)\n",
    "worksheet = sh.worksheet(WORKSHEET_NAME)\n",
    "\n",
    "# ✅ 將工作表轉為 DataFrame\n",
    "db = get_as_dataframe(worksheet)  # 可加入 index_col=\"name\" 如欄位存在\n",
    "\n",
    "# ✅ 預覽資料\n",
    "db.info()"
   ]
  },
  {
   "cell_type": "code",
   "execution_count": null,
   "metadata": {
    "cellView": "form",
    "colab": {
     "base_uri": "https://localhost:8080/"
    },
    "executionInfo": {
     "elapsed": 4,
     "status": "ok",
     "timestamp": 1747672615646,
     "user": {
      "displayName": "Kevin Cheng",
      "userId": "12501819886626332022"
     },
     "user_tz": -480
    },
    "id": "EanIP9ACTMpx",
    "outputId": "e6c7e69e-01f3-41c9-c381-989cccf89ced"
   },
   "outputs": [],
   "source": [
    "# @title 過濾經緯度\n",
    "db = db[\n",
    "    (db['latitude'] >= 22.9114) & (db['latitude'] <= 23.0919) &\n",
    "    (db['longitude'] >= 120.0634) & (db['longitude'] <= 120.2489)\n",
    "]\n",
    "\n",
    "# 預覽過濾後的資料\n",
    "db.info()"
   ]
  },
  {
   "cell_type": "markdown",
   "metadata": {
    "id": "939xwizzx7v9"
   },
   "source": [
    "# Visualizing point patterns"
   ]
  },
  {
   "cell_type": "markdown",
   "metadata": {
    "id": "MNAMnnNlMHnH"
   },
   "source": [
    "## Showing patterns as dots on a map"
   ]
  },
  {
   "cell_type": "code",
   "execution_count": null,
   "metadata": {
    "colab": {
     "base_uri": "https://localhost:8080/",
     "height": 607
    },
    "executionInfo": {
     "elapsed": 1045,
     "status": "ok",
     "timestamp": 1747672616691,
     "user": {
      "displayName": "Kevin Cheng",
      "userId": "12501819886626332022"
     },
     "user_tz": -480
    },
    "id": "tKnoEA_49jqE",
    "outputId": "762f5e6e-7296-4752-a124-12aaf07e0c91"
   },
   "outputs": [],
   "source": [
    "# Generate scatter plot\n",
    "seaborn.jointplot(x=\"longitude\", y=\"latitude\", data=db, s=0.5);"
   ]
  },
  {
   "cell_type": "code",
   "execution_count": null,
   "metadata": {
    "colab": {
     "base_uri": "https://localhost:8080/",
     "height": 607
    },
    "executionInfo": {
     "elapsed": 1919,
     "status": "ok",
     "timestamp": 1747672618610,
     "user": {
      "displayName": "Kevin Cheng",
      "userId": "12501819886626332022"
     },
     "user_tz": -480
    },
    "id": "qnms0OVSrwVx",
    "outputId": "addb6250-5e2a-4d40-a853-20622abefde2"
   },
   "outputs": [],
   "source": [
    "# Generate scatter plot\n",
    "joint_axes = seaborn.jointplot(\n",
    "    x=\"longitude\", y=\"latitude\", data=db, s=0.5\n",
    ")\n",
    "contextily.add_basemap(\n",
    "    joint_axes.ax_joint,\n",
    "    crs=\"EPSG:4326\",\n",
    "    source=contextily.providers.CartoDB.PositronNoLabels,\n",
    ");"
   ]
  },
  {
   "cell_type": "code",
   "execution_count": null,
   "metadata": {
    "colab": {
     "base_uri": "https://localhost:8080/",
     "height": 738
    },
    "executionInfo": {
     "elapsed": 1838,
     "status": "ok",
     "timestamp": 1747672620450,
     "user": {
      "displayName": "Kevin Cheng",
      "userId": "12501819886626332022"
     },
     "user_tz": -480
    },
    "id": "LbxdA5r0m8gP",
    "outputId": "528a0a82-7dc0-4566-8598-130a31a96481"
   },
   "outputs": [],
   "source": [
    "# Set up figure and axis\n",
    "f, ax = plt.subplots(1, figsize=(12, 9))\n",
    "# Generate and add hexbin with 50 hexagons in each\n",
    "# dimension, no borderlines, half transparency,\n",
    "# and the reverse viridis colormap\n",
    "hb = ax.hexbin(\n",
    "    db[\"x\"],\n",
    "    db[\"y\"],\n",
    "    gridsize=50,\n",
    "    linewidths=0,\n",
    "    alpha=0.5,\n",
    "    cmap=\"viridis_r\",\n",
    ")\n",
    "# Add basemap\n",
    "contextily.add_basemap(\n",
    "    ax,\n",
    "    crs=\"EPSG:3826\", # 需加入 epsg\n",
    "    source=contextily.providers.CartoDB.Positron\n",
    ")\n",
    "\n",
    "# Add colorbar\n",
    "plt.colorbar(hb)\n",
    "# Remove axes\n",
    "ax.set_axis_off()"
   ]
  },
  {
   "cell_type": "markdown",
   "metadata": {
    "id": "1VHP0RLN6vek"
   },
   "source": [
    "# Another kind of density: kernel density estimation"
   ]
  },
  {
   "cell_type": "code",
   "execution_count": null,
   "metadata": {
    "colab": {
     "base_uri": "https://localhost:8080/",
     "height": 837
    },
    "executionInfo": {
     "elapsed": 17462,
     "status": "ok",
     "timestamp": 1747672637913,
     "user": {
      "displayName": "Kevin Cheng",
      "userId": "12501819886626332022"
     },
     "user_tz": -480
    },
    "id": "OYbXHNxh0NQO",
    "outputId": "b4877302-e3b5-4570-b6e2-2aec655f6d42"
   },
   "outputs": [],
   "source": [
    "# Set up figure and axis\n",
    "f, ax = plt.subplots(1, figsize=(9, 9))\n",
    "# Generate and add KDE with a shading of 50 gradients\n",
    "# coloured contours, 75% of transparency,\n",
    "# and the reverse viridis colormap\n",
    "seaborn.kdeplot(\n",
    "    x=\"x\",\n",
    "    y=\"y\",\n",
    "    data=db,\n",
    "    n_levels=50,\n",
    "    shade=True,\n",
    "    alpha=0.55,\n",
    "    cmap=\"viridis_r\",\n",
    ")\n",
    "# Add basemap\n",
    "contextily.add_basemap(\n",
    "    ax,\n",
    "    crs=\"EPSG:3826\", # 需加入 epsg\n",
    "    source=contextily.providers.CartoDB.Positron\n",
    ")\n",
    "# Remove axes\n",
    "ax.set_axis_off()"
   ]
  },
  {
   "cell_type": "markdown",
   "metadata": {
    "id": "EWtBDOos8Qie"
   },
   "source": [
    "# Centrography"
   ]
  },
  {
   "cell_type": "markdown",
   "metadata": {
    "id": "krmu9Lrj8Wws"
   },
   "source": [
    "## Tendency"
   ]
  },
  {
   "cell_type": "code",
   "execution_count": null,
   "metadata": {
    "id": "bYHtTclInHCA"
   },
   "outputs": [],
   "source": [
    "from pointpats import centrography"
   ]
  },
  {
   "cell_type": "code",
   "execution_count": null,
   "metadata": {
    "id": "exnSBlCwnJOK"
   },
   "outputs": [],
   "source": [
    "mean_center = centrography.mean_center(db[[\"x\", \"y\"]])\n",
    "med_center = centrography.euclidean_median(db[[\"x\", \"y\"]])"
   ]
  },
  {
   "cell_type": "code",
   "execution_count": null,
   "metadata": {
    "colab": {
     "base_uri": "https://localhost:8080/",
     "height": 863
    },
    "executionInfo": {
     "elapsed": 1376,
     "status": "ok",
     "timestamp": 1747672642767,
     "user": {
      "displayName": "Kevin Cheng",
      "userId": "12501819886626332022"
     },
     "user_tz": -480
    },
    "id": "xIJMU4EdnKMA",
    "outputId": "cce8b450-f3bf-46bf-eddc-be64f50ca145"
   },
   "outputs": [],
   "source": [
    "# Generate scatterplot\n",
    "joint_axes = seaborn.jointplot(\n",
    "    x=\"x\", y=\"y\", data=db, s=0.75, height=9\n",
    ")\n",
    "# Add mean point and marginal lines\n",
    "joint_axes.ax_joint.scatter(\n",
    "    *mean_center, color=\"red\", marker=\"x\", s=50, label=\"Mean Center\"\n",
    ")\n",
    "joint_axes.ax_marg_x.axvline(mean_center[0], color=\"red\")\n",
    "joint_axes.ax_marg_y.axhline(mean_center[1], color=\"red\")\n",
    "# Add median point and marginal lines\n",
    "joint_axes.ax_joint.scatter(\n",
    "    *med_center,\n",
    "    color=\"limegreen\",\n",
    "    marker=\"o\",\n",
    "    s=50,\n",
    "    label=\"Median Center\"\n",
    ")\n",
    "joint_axes.ax_marg_x.axvline(med_center[0], color=\"limegreen\")\n",
    "joint_axes.ax_marg_y.axhline(med_center[1], color=\"limegreen\")\n",
    "# Legend\n",
    "joint_axes.ax_joint.legend()\n",
    "# Add basemap\n",
    "contextily.add_basemap(\n",
    "    joint_axes.ax_joint,\n",
    "    crs=\"EPSG:3826\", # 需加入 epsg\n",
    "    source=contextily.providers.CartoDB.Positron\n",
    ")\n",
    "# Clean axes\n",
    "joint_axes.ax_joint.set_axis_off()\n",
    "# Display\n",
    "plt.show()"
   ]
  },
  {
   "cell_type": "markdown",
   "metadata": {
    "id": "FZEr54J1-kUQ"
   },
   "source": [
    "## Dispersion"
   ]
  },
  {
   "cell_type": "code",
   "execution_count": null,
   "metadata": {
    "colab": {
     "base_uri": "https://localhost:8080/"
    },
    "executionInfo": {
     "elapsed": 7,
     "status": "ok",
     "timestamp": 1747672642776,
     "user": {
      "displayName": "Kevin Cheng",
      "userId": "12501819886626332022"
     },
     "user_tz": -480
    },
    "id": "C-gBNvcDnLVU",
    "outputId": "fa50c6ff-ba92-4cbb-a980-e085d5cdb1e8"
   },
   "outputs": [],
   "source": [
    "centrography.std_distance(db[[\"x\", \"y\"]])"
   ]
  },
  {
   "cell_type": "code",
   "execution_count": null,
   "metadata": {
    "id": "yzdPGtjCnNmz"
   },
   "outputs": [],
   "source": [
    "major, minor, rotation = centrography.ellipse(db[[\"x\", \"y\"]])"
   ]
  },
  {
   "cell_type": "code",
   "execution_count": null,
   "metadata": {
    "colab": {
     "base_uri": "https://localhost:8080/",
     "height": 768
    },
    "executionInfo": {
     "elapsed": 867,
     "status": "ok",
     "timestamp": 1747672643646,
     "user": {
      "displayName": "Kevin Cheng",
      "userId": "12501819886626332022"
     },
     "user_tz": -480
    },
    "id": "e9oZ2eqmnOqc",
    "outputId": "1bc58066-a40c-468d-8b16-4e4cdda5009c"
   },
   "outputs": [],
   "source": [
    "from matplotlib.patches import Ellipse\n",
    "\n",
    "# Set up figure and axis\n",
    "f, ax = plt.subplots(1, figsize=(9, 9))\n",
    "# Plot photograph points\n",
    "ax.scatter(db[\"x\"], db[\"y\"], s=0.75)\n",
    "ax.scatter(*mean_center, color=\"red\", marker=\"x\", label=\"Mean Center\")\n",
    "ax.scatter(\n",
    "    *med_center, color=\"limegreen\", marker=\"o\", label=\"Median Center\"\n",
    ")\n",
    "\n",
    "# Construct the standard ellipse using matplotlib\n",
    "ellipse = Ellipse(\n",
    "    xy=mean_center,  # center the ellipse on our mean center\n",
    "    width=major * 2,  # centrography.ellipse only gives half the axis\n",
    "    height=minor * 2,\n",
    "    angle=numpy.rad2deg(\n",
    "        rotation\n",
    "    ),  # Angles for this are in degrees, not radians\n",
    "    facecolor=\"none\",\n",
    "    edgecolor=\"red\",\n",
    "    linestyle=\"--\",\n",
    "    label=\"Std. Ellipse\",\n",
    ")\n",
    "ax.add_patch(ellipse)\n",
    "\n",
    "ax.legend()\n",
    "# Display\n",
    "# Add basemap\n",
    "contextily.add_basemap(\n",
    "    ax,\n",
    "    crs=\"EPSG:3826\", # 需加入 epsg\n",
    "    source=contextily.providers.CartoDB.Positron\n",
    ")\n",
    "plt.show()"
   ]
  },
  {
   "cell_type": "markdown",
   "metadata": {
    "id": "yv7xKne2-t_Z"
   },
   "source": [
    "## Extent"
   ]
  },
  {
   "cell_type": "code",
   "execution_count": null,
   "metadata": {
    "id": "z2LCiIb3nPuH"
   },
   "outputs": [],
   "source": [
    "user = db.query('通報日 == \"2015/9/1\"')\n",
    "coordinates = user[[\"x\", \"y\"]].values"
   ]
  },
  {
   "cell_type": "code",
   "execution_count": null,
   "metadata": {
    "id": "WhgYHjNRnR1I"
   },
   "outputs": [],
   "source": [
    "convex_hull_vertices = centrography.hull(coordinates)"
   ]
  },
  {
   "cell_type": "code",
   "execution_count": null,
   "metadata": {
    "id": "RAVxL6oynY7b"
   },
   "outputs": [],
   "source": [
    "import libpysal\n",
    "\n",
    "alpha_shape, alpha, circs = libpysal.cg.alpha_shape_auto(\n",
    "    coordinates, return_circles=True\n",
    ")"
   ]
  },
  {
   "cell_type": "code",
   "execution_count": null,
   "metadata": {
    "colab": {
     "base_uri": "https://localhost:8080/",
     "height": 822
    },
    "executionInfo": {
     "elapsed": 1113,
     "status": "ok",
     "timestamp": 1747672649880,
     "user": {
      "displayName": "Kevin Cheng",
      "userId": "12501819886626332022"
     },
     "user_tz": -480
    },
    "id": "H8W8NLbFnb2i",
    "outputId": "00c8afc7-f872-4249-99de-c15384913a58"
   },
   "outputs": [],
   "source": [
    "f, ax = plt.subplots(1, 1, figsize=(9, 9))\n",
    "\n",
    "# Plot a green alpha shape\n",
    "geopandas.GeoSeries(\n",
    "    [alpha_shape]\n",
    ").plot(\n",
    "    ax=ax,\n",
    "    edgecolor=\"green\",\n",
    "    facecolor=\"green\",\n",
    "    alpha=0.2,\n",
    "    label=\"Tightest single alpha shape\",\n",
    ")\n",
    "\n",
    "# Include the points for our prolific user in black\n",
    "ax.scatter(\n",
    "    *coordinates.T, color=\"k\", marker=\".\", label=\"Source Points\"\n",
    ")\n",
    "\n",
    "# plot the circles forming the boundary of the alpha shape\n",
    "for i, circle in enumerate(circs):\n",
    "    # only label the first circle of its kind\n",
    "    if i == 0:\n",
    "        label = \"Bounding Circles\"\n",
    "    else:\n",
    "        label = None\n",
    "        ax.add_patch(\n",
    "            plt.Circle(\n",
    "                circle,\n",
    "                radius=alpha,\n",
    "                facecolor=\"none\",\n",
    "                edgecolor=\"r\",\n",
    "                label=label,\n",
    "            )\n",
    "        )\n",
    "\n",
    "# add a blue convex hull\n",
    "ax.add_patch(\n",
    "    plt.Polygon(\n",
    "        convex_hull_vertices,\n",
    "        closed=True,\n",
    "        edgecolor=\"blue\",\n",
    "        facecolor=\"none\",\n",
    "        linestyle=\":\",\n",
    "        linewidth=2,\n",
    "        label=\"Convex Hull\",\n",
    "    )\n",
    ")\n",
    "\n",
    "# Add basemap\n",
    "contextily.add_basemap(\n",
    "    ax,\n",
    "    crs=\"EPSG:3826\", # 需加入 epsg\n",
    "    source=contextily.providers.CartoDB.Positron\n",
    ")\n",
    "plt.legend();"
   ]
  },
  {
   "cell_type": "code",
   "execution_count": null,
   "metadata": {
    "id": "UK7oe9Q4o97c"
   },
   "outputs": [],
   "source": [
    "# !pip install -q pygeos"
   ]
  },
  {
   "cell_type": "code",
   "execution_count": null,
   "metadata": {
    "id": "lKU8vpSFnevG"
   },
   "outputs": [],
   "source": [
    "# from pygeos import minimum_rotated_rectangle, from_shapely, to_shapely\n",
    "\n",
    "# point_array = geopandas.points_from_xy(x=user.x, y=user.y)\n",
    "\n",
    "# min_rot_rect = minimum_rotated_rectangle(\n",
    "#     from_shapely(\n",
    "#         point_array.unary_union()\n",
    "#     )\n",
    "# )\n",
    "# min_rot_rect = to_shapely(min_rot_rect)"
   ]
  },
  {
   "cell_type": "code",
   "execution_count": null,
   "metadata": {
    "id": "1zild4rwo498"
   },
   "outputs": [],
   "source": [
    "from shapely.geometry import MultiPoint\n",
    "import geopandas as gpd\n",
    "\n",
    "# ✅ 建立點位資料\n",
    "user_points = gpd.points_from_xy(x=user.x, y=user.y)\n",
    "\n",
    "# ✅ 使用 Shapely 建立最小旋轉矩形（不需 pygeos）\n",
    "min_rot_rect = MultiPoint(user_points).minimum_rotated_rectangle\n"
   ]
  },
  {
   "cell_type": "code",
   "execution_count": null,
   "metadata": {
    "id": "WFFaZYNcqTE_"
   },
   "outputs": [],
   "source": [
    "min_rect_vertices = centrography.minimum_bounding_rectangle(\n",
    "    coordinates\n",
    ")"
   ]
  },
  {
   "cell_type": "code",
   "execution_count": null,
   "metadata": {
    "id": "ecyTyMpgpiQK"
   },
   "outputs": [],
   "source": [
    "(center_x, center_y), radius = centrography.minimum_bounding_circle(\n",
    "    coordinates\n",
    ")"
   ]
  },
  {
   "cell_type": "code",
   "execution_count": null,
   "metadata": {
    "id": "O3xwjRempl8a"
   },
   "outputs": [],
   "source": [
    "from matplotlib.patches import Polygon, Circle, Rectangle\n",
    "\n",
    "# Make a blue convex hull\n",
    "convex_hull_patch = Polygon(\n",
    "    convex_hull_vertices,\n",
    "    closed=True,\n",
    "    edgecolor=\"blue\",\n",
    "    facecolor=\"none\",\n",
    "    linestyle=\":\",\n",
    "    linewidth=2,\n",
    "    label=\"Convex Hull\",\n",
    ")\n",
    "\n",
    "# compute the width and height of the minimum bounding rectangle\n",
    "min_rect_width = min_rect_vertices[2] - min_rect_vertices[0]\n",
    "min_rect_height = min_rect_vertices[2] - min_rect_vertices[0]\n",
    "\n",
    "# Make a goldenrod minimum bounding rectangle\n",
    "min_rect_patch = Rectangle(\n",
    "    min_rect_vertices[0:2],\n",
    "    width=min_rect_width,\n",
    "    height=min_rect_height,\n",
    "    edgecolor=\"goldenrod\",\n",
    "    facecolor=\"none\",\n",
    "    linestyle=\"dashed\",\n",
    "    linewidth=2,\n",
    "    label=\"Min Bounding Rectangle\",\n",
    ")\n",
    "\n",
    "# and make a red minimum bounding circle\n",
    "circ_patch = Circle(\n",
    "    (center_x, center_y),\n",
    "    radius=radius,\n",
    "    edgecolor=\"red\",\n",
    "    facecolor=\"none\",\n",
    "    linewidth=2,\n",
    "    label=\"Min Bounding Circle\",\n",
    ")"
   ]
  },
  {
   "cell_type": "code",
   "execution_count": null,
   "metadata": {
    "colab": {
     "base_uri": "https://localhost:8080/",
     "height": 899
    },
    "executionInfo": {
     "elapsed": 991,
     "status": "ok",
     "timestamp": 1747672654619,
     "user": {
      "displayName": "Kevin Cheng",
      "userId": "12501819886626332022"
     },
     "user_tz": -480
    },
    "id": "OtJDtrUFpnE7",
    "outputId": "5356e388-f10c-4293-f092-9ac87073afa0"
   },
   "outputs": [],
   "source": [
    "f, ax = plt.subplots(1, figsize=(10, 10))\n",
    "\n",
    "# a purple alpha shape\n",
    "geopandas.GeoSeries(\n",
    "    [alpha_shape]\n",
    ").plot(\n",
    "    ax=ax,\n",
    "    edgecolor=\"purple\",\n",
    "    facecolor=\"none\",\n",
    "    linewidth=2,\n",
    "    label=\"Alpha Shape\",\n",
    ")\n",
    "\n",
    "# a green minimum rotated rectangle\n",
    "geopandas.GeoSeries(\n",
    "    [min_rot_rect]\n",
    ").plot(\n",
    "    ax=ax,\n",
    "    edgecolor=\"green\",\n",
    "    facecolor=\"none\",\n",
    "    linestyle=\"--\",\n",
    "    label=\"Min Rotated Rectangle\",\n",
    "    linewidth=2,\n",
    ")\n",
    "\n",
    "# add the rest of the patches\n",
    "ax.add_patch(convex_hull_patch)\n",
    "ax.add_patch(min_rect_patch)\n",
    "ax.add_patch(circ_patch)\n",
    "ax.scatter(db.x, db.y, s=0.75, color=\"grey\")\n",
    "ax.scatter(user.x, user.y, s=100, color=\"r\", marker=\"x\")\n",
    "ax.legend(ncol=1, loc=\"center left\")\n",
    "\n",
    "# Add basemap\n",
    "contextily.add_basemap(\n",
    "    ax,\n",
    "    crs=\"EPSG:3826\", # 需加入 epsg\n",
    "    source=contextily.providers.CartoDB.Positron\n",
    ")\n",
    "plt.show()"
   ]
  },
  {
   "cell_type": "markdown",
   "metadata": {
    "id": "O4-0mYgj_Dob"
   },
   "source": [
    "# Randomness and clustering"
   ]
  },
  {
   "cell_type": "code",
   "execution_count": null,
   "metadata": {
    "id": "4QpvuRispoaR"
   },
   "outputs": [],
   "source": [
    "from pointpats import (\n",
    "    distance_statistics,\n",
    "    QStatistic,\n",
    "    random,\n",
    "    PointPattern,\n",
    ")"
   ]
  },
  {
   "cell_type": "code",
   "execution_count": null,
   "metadata": {
    "id": "nxJj8EM-pqg1"
   },
   "outputs": [],
   "source": [
    "random_pattern = random.poisson(coordinates, size=len(coordinates))"
   ]
  },
  {
   "cell_type": "code",
   "execution_count": null,
   "metadata": {
    "colab": {
     "base_uri": "https://localhost:8080/",
     "height": 768
    },
    "executionInfo": {
     "elapsed": 2036,
     "status": "ok",
     "timestamp": 1747672656657,
     "user": {
      "displayName": "Kevin Cheng",
      "userId": "12501819886626332022"
     },
     "user_tz": -480
    },
    "id": "CTu9OaXzpro3",
    "outputId": "020cb615-be08-4b5b-ff77-66aa3fbd7bce"
   },
   "outputs": [],
   "source": [
    "f, ax = plt.subplots(1, figsize=(9, 9))\n",
    "plt.scatter(\n",
    "    *coordinates.T,\n",
    "    color=\"k\",\n",
    "    marker=\".\",\n",
    "    label=\"Observed photographs\"\n",
    ")\n",
    "plt.scatter(*random_pattern.T, color=\"r\", marker=\"x\", label=\"Random\")\n",
    "contextily.add_basemap(\n",
    "    ax,\n",
    "    crs=\"EPSG:3826\", # 需加入 epsg\n",
    "    source=contextily.providers.CartoDB.Positron\n",
    ")\n",
    "ax.legend(ncol=1, loc=\"center left\")\n",
    "plt.show()"
   ]
  },
  {
   "cell_type": "code",
   "execution_count": null,
   "metadata": {
    "id": "5zNe4qWwpssZ"
   },
   "outputs": [],
   "source": [
    "random_pattern_ashape = random.poisson(\n",
    "    alpha_shape, size=len(coordinates)\n",
    ")"
   ]
  },
  {
   "cell_type": "code",
   "execution_count": null,
   "metadata": {
    "colab": {
     "base_uri": "https://localhost:8080/",
     "height": 768
    },
    "executionInfo": {
     "elapsed": 986,
     "status": "ok",
     "timestamp": 1747672657647,
     "user": {
      "displayName": "Kevin Cheng",
      "userId": "12501819886626332022"
     },
     "user_tz": -480
    },
    "id": "OLNZouWKpuQZ",
    "outputId": "27ee933a-4620-4d76-c1a9-4aac27d57480"
   },
   "outputs": [],
   "source": [
    "f, ax = plt.subplots(1, figsize=(9, 9))\n",
    "plt.scatter(*coordinates.T, color=\"k\", marker=\".\", label=\"Observed\")\n",
    "plt.scatter(\n",
    "    *random_pattern_ashape.T, color=\"r\", marker=\"x\", label=\"Random\"\n",
    ")\n",
    "contextily.add_basemap(\n",
    "    ax,\n",
    "    crs=\"EPSG:3826\", # 需加入 epsg\n",
    "    source=contextily.providers.CartoDB.Positron\n",
    ")\n",
    "ax.legend(ncol=1, loc=\"center left\")\n",
    "plt.show()"
   ]
  },
  {
   "cell_type": "code",
   "execution_count": null,
   "metadata": {
    "colab": {
     "base_uri": "https://localhost:8080/",
     "height": 470
    },
    "executionInfo": {
     "elapsed": 30,
     "status": "ok",
     "timestamp": 1747672657678,
     "user": {
      "displayName": "Kevin Cheng",
      "userId": "12501819886626332022"
     },
     "user_tz": -480
    },
    "id": "ZwZhbdwKpvPo",
    "outputId": "447d28c2-072c-4819-c5e2-0d811e173d32"
   },
   "outputs": [],
   "source": [
    "qstat = QStatistic(coordinates)\n",
    "qstat.plot()"
   ]
  },
  {
   "cell_type": "code",
   "execution_count": null,
   "metadata": {
    "colab": {
     "base_uri": "https://localhost:8080/"
    },
    "executionInfo": {
     "elapsed": 3,
     "status": "ok",
     "timestamp": 1747672657681,
     "user": {
      "displayName": "Kevin Cheng",
      "userId": "12501819886626332022"
     },
     "user_tz": -480
    },
    "id": "Fjg_VYfJpw5j",
    "outputId": "e5dcfee8-a275-4790-be6b-06a51584bd47"
   },
   "outputs": [],
   "source": [
    "qstat.chi2_pvalue"
   ]
  },
  {
   "cell_type": "markdown",
   "metadata": {
    "id": "zT7YDGE3AN2M"
   },
   "source": [
    "## Ripley’s alphabet of functions"
   ]
  },
  {
   "cell_type": "code",
   "execution_count": null,
   "metadata": {
    "colab": {
     "base_uri": "https://localhost:8080/",
     "height": 470
    },
    "executionInfo": {
     "elapsed": 261,
     "status": "ok",
     "timestamp": 1747672657942,
     "user": {
      "displayName": "Kevin Cheng",
      "userId": "12501819886626332022"
     },
     "user_tz": -480
    },
    "id": "mS1m1SPFpyQ3",
    "outputId": "77a8d64d-2879-4e24-a7fc-30803c7414cc"
   },
   "outputs": [],
   "source": [
    "qstat_null = QStatistic(random_pattern)\n",
    "qstat_null.plot()"
   ]
  },
  {
   "cell_type": "code",
   "execution_count": null,
   "metadata": {
    "colab": {
     "base_uri": "https://localhost:8080/"
    },
    "executionInfo": {
     "elapsed": 5,
     "status": "ok",
     "timestamp": 1747672657946,
     "user": {
      "displayName": "Kevin Cheng",
      "userId": "12501819886626332022"
     },
     "user_tz": -480
    },
    "id": "VpkAMWBBpzOl",
    "outputId": "25deb897-4737-40f4-f49c-a4fabb6e4e8f"
   },
   "outputs": [],
   "source": [
    "qstat_null.chi2_pvalue"
   ]
  },
  {
   "cell_type": "code",
   "execution_count": null,
   "metadata": {
    "colab": {
     "base_uri": "https://localhost:8080/",
     "height": 470
    },
    "executionInfo": {
     "elapsed": 277,
     "status": "ok",
     "timestamp": 1747672658233,
     "user": {
      "displayName": "Kevin Cheng",
      "userId": "12501819886626332022"
     },
     "user_tz": -480
    },
    "id": "SFKZlTSop0UL",
    "outputId": "33414064-df33-4e2a-9643-670f53cff549"
   },
   "outputs": [],
   "source": [
    "qstat_null_ashape = QStatistic(random_pattern_ashape)\n",
    "qstat_null_ashape.plot()"
   ]
  },
  {
   "cell_type": "code",
   "execution_count": null,
   "metadata": {
    "colab": {
     "base_uri": "https://localhost:8080/"
    },
    "executionInfo": {
     "elapsed": 15,
     "status": "ok",
     "timestamp": 1747672658249,
     "user": {
      "displayName": "Kevin Cheng",
      "userId": "12501819886626332022"
     },
     "user_tz": -480
    },
    "id": "ZByffhcip1QY",
    "outputId": "54952b8d-dc99-4143-e331-57f54bfba848"
   },
   "outputs": [],
   "source": [
    "qstat_null_ashape.chi2_pvalue"
   ]
  },
  {
   "cell_type": "code",
   "execution_count": null,
   "metadata": {
    "colab": {
     "base_uri": "https://localhost:8080/",
     "height": 513
    },
    "executionInfo": {
     "elapsed": 1039,
     "status": "ok",
     "timestamp": 1747672659288,
     "user": {
      "displayName": "Kevin Cheng",
      "userId": "12501819886626332022"
     },
     "user_tz": -480
    },
    "id": "tNKOx90Ep2bn",
    "outputId": "bff2d0a9-ecac-4c9a-b5b5-067d89b1e881"
   },
   "outputs": [],
   "source": [
    "# Code generated for this figure is available on the web version of the book.\n",
    "f, ax = plt.subplots(1, 2, figsize=(8, 4), sharex=True, sharey=True)\n",
    "ax[0].scatter(*random_pattern.T, color=\"red\")\n",
    "ax[1].scatter(\n",
    "    *random_pattern.T,\n",
    "    color=\"red\",\n",
    "    zorder=100,\n",
    "    marker=\".\",\n",
    "    label=\"Points\"\n",
    ")\n",
    "nn_ixs, nn_ds = PointPattern(random_pattern).knn(1)\n",
    "first = True\n",
    "for coord, nn_ix, nn_d in zip(random_pattern, nn_ixs, nn_ds):\n",
    "    dx, dy = random_pattern[nn_ix].squeeze() - coord\n",
    "    arrow = ax[1].arrow(\n",
    "        *coord,\n",
    "        dx,\n",
    "        dy,\n",
    "        length_includes_head=True,\n",
    "        overhang=0,\n",
    "        head_length=300 * 3,\n",
    "        head_width=300 * 3,\n",
    "        width=50 * 3,\n",
    "        linewidth=0,\n",
    "        facecolor=\"k\",\n",
    "        head_starts_at_zero=False\n",
    "    )\n",
    "    if first:\n",
    "        plt.plot(\n",
    "            (1e100, 1e101),\n",
    "            (0, 1),\n",
    "            color=\"k\",\n",
    "            marker=\"<\",\n",
    "            markersize=10,\n",
    "            label=\"Nearest Neighbor to Point\",\n",
    "        )\n",
    "    first = False\n",
    "\n",
    "#ax[0].axis([1.554e7, 1.556e7, 4240000, 4260000])\n",
    "ax[0].axis([153924, 173051, 2534774, 2554660])\n",
    "ax[0].set_xticklabels([])\n",
    "ax[0].set_yticklabels([])\n",
    "ax[0].set_xticks([])\n",
    "ax[0].set_yticks([])\n",
    "f.tight_layout()\n",
    "ax[1].legend(bbox_to_anchor=(0.5, -0.06), fontsize=16)\n",
    "plt.show()"
   ]
  },
  {
   "cell_type": "code",
   "execution_count": null,
   "metadata": {
    "id": "vLr7bYnnp5Nm"
   },
   "outputs": [],
   "source": [
    "g_test = distance_statistics.g_test(\n",
    "    coordinates, support=40, keep_simulations=True\n",
    ")"
   ]
  },
  {
   "cell_type": "code",
   "execution_count": null,
   "metadata": {
    "colab": {
     "base_uri": "https://localhost:8080/",
     "height": 378
    },
    "executionInfo": {
     "elapsed": 15267,
     "status": "ok",
     "timestamp": 1747672706408,
     "user": {
      "displayName": "Kevin Cheng",
      "userId": "12501819886626332022"
     },
     "user_tz": -480
    },
    "id": "pOqP7k0Qp7v3",
    "outputId": "a6806260-a521-4a98-c668-02c78f6eaf59"
   },
   "outputs": [],
   "source": [
    "f, ax = plt.subplots(\n",
    "    1, 2, figsize=(9, 3), gridspec_kw=dict(width_ratios=(6, 3))\n",
    ")\n",
    "# plot all the simulations with very fine lines\n",
    "ax[0].plot(\n",
    "    g_test.support, g_test.simulations.T, color=\"k\", alpha=0.01\n",
    ")\n",
    "# and show the average of simulations\n",
    "ax[0].plot(\n",
    "    g_test.support,\n",
    "    numpy.median(g_test.simulations, axis=0),\n",
    "    color=\"cyan\",\n",
    "    label=\"median simulation\",\n",
    ")\n",
    "\n",
    "\n",
    "# and the observed pattern's G function\n",
    "ax[0].plot(\n",
    "    g_test.support, g_test.statistic, label=\"observed\", color=\"red\"\n",
    ")\n",
    "\n",
    "# clean up labels and axes\n",
    "ax[0].set_xlabel(\"distance\")\n",
    "ax[0].set_ylabel(\"% of nearest neighbor\\ndistances shorter\")\n",
    "ax[0].legend()\n",
    "ax[0].set_xlim(0, 2000)\n",
    "ax[0].set_title(r\"Ripley's $G(d)$ function\")\n",
    "\n",
    "# plot the pattern itself on the next frame\n",
    "ax[1].scatter(*coordinates.T)\n",
    "\n",
    "# and clean up labels and axes there, too\n",
    "ax[1].set_xticks([])\n",
    "ax[1].set_yticks([])\n",
    "ax[1].set_xticklabels([])\n",
    "ax[1].set_yticklabels([])\n",
    "ax[1].set_title(\"Pattern\")\n",
    "f.tight_layout()\n",
    "plt.show()"
   ]
  },
  {
   "cell_type": "code",
   "execution_count": null,
   "metadata": {
    "id": "iyQYvm7Hp9wd"
   },
   "outputs": [],
   "source": [
    "f_test = distance_statistics.f_test(\n",
    "    coordinates, support=40, keep_simulations=True\n",
    ")"
   ]
  },
  {
   "cell_type": "code",
   "execution_count": null,
   "metadata": {
    "colab": {
     "base_uri": "https://localhost:8080/",
     "height": 378
    },
    "executionInfo": {
     "elapsed": 15800,
     "status": "ok",
     "timestamp": 1747672760498,
     "user": {
      "displayName": "Kevin Cheng",
      "userId": "12501819886626332022"
     },
     "user_tz": -480
    },
    "id": "7mSY-lcsp_OV",
    "outputId": "576d2131-6e85-450c-8c62-424b4a84fe89"
   },
   "outputs": [],
   "source": [
    "f, ax = plt.subplots(\n",
    "    1, 2, figsize=(9, 3), gridspec_kw=dict(width_ratios=(6, 3))\n",
    ")\n",
    "\n",
    "# plot all the simulations with very fine lines\n",
    "ax[0].plot(\n",
    "    f_test.support, f_test.simulations.T, color=\"k\", alpha=0.01\n",
    ")\n",
    "# and show the average of simulations\n",
    "ax[0].plot(\n",
    "    f_test.support,\n",
    "    numpy.median(f_test.simulations, axis=0),\n",
    "    color=\"cyan\",\n",
    "    label=\"median simulation\",\n",
    ")\n",
    "\n",
    "\n",
    "# and the observed pattern's F function\n",
    "ax[0].plot(\n",
    "    f_test.support, f_test.statistic, label=\"observed\", color=\"red\"\n",
    ")\n",
    "\n",
    "# clean up labels and axes\n",
    "ax[0].set_xlabel(\"distance\")\n",
    "ax[0].set_ylabel(\"% of nearest point in pattern\\ndistances shorter\")\n",
    "ax[0].legend()\n",
    "ax[0].set_xlim(0, 2000)\n",
    "ax[0].set_title(r\"Ripley's $F(d)$ function\")\n",
    "\n",
    "# plot the pattern itself on the next frame\n",
    "ax[1].scatter(*coordinates.T)\n",
    "\n",
    "# and clean up labels and axes there, too\n",
    "ax[1].set_xticks([])\n",
    "ax[1].set_yticks([])\n",
    "ax[1].set_xticklabels([])\n",
    "ax[1].set_yticklabels([])\n",
    "ax[1].set_title(\"Pattern\")\n",
    "f.tight_layout()\n",
    "plt.show()"
   ]
  },
  {
   "cell_type": "markdown",
   "metadata": {
    "id": "B8HsuEIzCTvw"
   },
   "source": [
    "## Identifying clusters"
   ]
  },
  {
   "cell_type": "code",
   "execution_count": null,
   "metadata": {
    "colab": {
     "base_uri": "https://localhost:8080/",
     "height": 80
    },
    "executionInfo": {
     "elapsed": 148,
     "status": "ok",
     "timestamp": 1747672760647,
     "user": {
      "displayName": "Kevin Cheng",
      "userId": "12501819886626332022"
     },
     "user_tz": -480
    },
    "id": "zbyqgunQqAw2",
    "outputId": "fd249b08-9030-4718-a0f3-493aa2e97adf"
   },
   "outputs": [],
   "source": [
    "# Define DBSCAN\n",
    "clusterer = DBSCAN()\n",
    "# Fit to our data\n",
    "clusterer.fit(db[[\"x\", \"y\"]])"
   ]
  },
  {
   "cell_type": "code",
   "execution_count": null,
   "metadata": {
    "colab": {
     "base_uri": "https://localhost:8080/"
    },
    "executionInfo": {
     "elapsed": 3,
     "status": "ok",
     "timestamp": 1747672760878,
     "user": {
      "displayName": "Kevin Cheng",
      "userId": "12501819886626332022"
     },
     "user_tz": -480
    },
    "id": "cRA8wumlqC3F",
    "outputId": "9794efc0-d5b3-4c34-cdd7-20906fef810a"
   },
   "outputs": [],
   "source": [
    "# Print the first 5 elements of `cs`\n",
    "clusterer.core_sample_indices_[:5]"
   ]
  },
  {
   "cell_type": "code",
   "execution_count": null,
   "metadata": {
    "colab": {
     "base_uri": "https://localhost:8080/"
    },
    "executionInfo": {
     "elapsed": 3,
     "status": "ok",
     "timestamp": 1747672760882,
     "user": {
      "displayName": "Kevin Cheng",
      "userId": "12501819886626332022"
     },
     "user_tz": -480
    },
    "id": "9kP0JriDqEEL",
    "outputId": "ba03d9e2-f2bf-42af-8155-89f3da19c12b"
   },
   "outputs": [],
   "source": [
    "clusterer.labels_[:5]"
   ]
  },
  {
   "cell_type": "code",
   "execution_count": null,
   "metadata": {
    "id": "kbix-nvIqF2g"
   },
   "outputs": [],
   "source": [
    "lbls = pandas.Series(clusterer.labels_, index=db.index)"
   ]
  },
  {
   "cell_type": "code",
   "execution_count": null,
   "metadata": {
    "colab": {
     "base_uri": "https://localhost:8080/",
     "height": 730
    },
    "executionInfo": {
     "elapsed": 1569,
     "status": "ok",
     "timestamp": 1747672762453,
     "user": {
      "displayName": "Kevin Cheng",
      "userId": "12501819886626332022"
     },
     "user_tz": -480
    },
    "id": "_TKBJqNLqHQF",
    "outputId": "f58a85b2-e2ae-431e-841d-3e725e811d80"
   },
   "outputs": [],
   "source": [
    "# Setup figure and axis\n",
    "f, ax = plt.subplots(1, figsize=(9, 9))\n",
    "# Subset points that are not part of any cluster (noise)\n",
    "noise = db.loc[lbls == -1, [\"x\", \"y\"]]\n",
    "# Plot noise in grey\n",
    "ax.scatter(noise[\"x\"], noise[\"y\"], c=\"grey\", s=5, linewidth=0)\n",
    "# Plot all points that are not noise in red\n",
    "# NOTE how this is done through some fancy indexing, where\n",
    "#      we take the index of all points (tw) and substract from\n",
    "#      it the index of those that are noise\n",
    "ax.scatter(\n",
    "    db.loc[db.index.difference(noise.index), \"x\"],\n",
    "    db.loc[db.index.difference(noise.index), \"y\"],\n",
    "    c=\"red\",\n",
    "    linewidth=0,\n",
    ")\n",
    "# Add basemap\n",
    "contextily.add_basemap(\n",
    "    ax,\n",
    "    crs=\"EPSG:3826\", # 需加入 epsg\n",
    "    source=contextily.providers.CartoDB.Positron\n",
    ")\n",
    "# Remove axes\n",
    "ax.set_axis_off()\n",
    "# Display the figure\n",
    "plt.show()"
   ]
  },
  {
   "cell_type": "code",
   "execution_count": null,
   "metadata": {
    "colab": {
     "base_uri": "https://localhost:8080/"
    },
    "executionInfo": {
     "elapsed": 3,
     "status": "ok",
     "timestamp": 1747672762457,
     "user": {
      "displayName": "Kevin Cheng",
      "userId": "12501819886626332022"
     },
     "user_tz": -480
    },
    "id": "lG8JBnCDqITI",
    "outputId": "35c288b0-f1b1-4863-a247-058e41c8cccf"
   },
   "outputs": [],
   "source": [
    "# Obtain the number of points 1% of the total represents\n",
    "minp = numpy.round(db.shape[0] * 0.01)\n",
    "minp"
   ]
  },
  {
   "cell_type": "code",
   "execution_count": null,
   "metadata": {
    "colab": {
     "base_uri": "https://localhost:8080/",
     "height": 730
    },
    "executionInfo": {
     "elapsed": 530,
     "status": "ok",
     "timestamp": 1747672762988,
     "user": {
      "displayName": "Kevin Cheng",
      "userId": "12501819886626332022"
     },
     "user_tz": -480
    },
    "id": "z7-zJP57qJsI",
    "outputId": "3b680eb2-4071-4ce4-b728-2a50eadc9bb6"
   },
   "outputs": [],
   "source": [
    "# Rerun DBSCAN\n",
    "clusterer = DBSCAN(eps=500, min_samples=int(minp))\n",
    "clusterer.fit(db[[\"x\", \"y\"]])\n",
    "# Turn labels into a Series\n",
    "lbls = pandas.Series(clusterer.labels_, index=db.index)\n",
    "# Setup figure and axis\n",
    "f, ax = plt.subplots(1, figsize=(9, 9))\n",
    "# Subset points that are not part of any cluster (noise)\n",
    "noise = db.loc[lbls == -1, [\"x\", \"y\"]]\n",
    "# Plot noise in grey\n",
    "ax.scatter(noise[\"x\"], noise[\"y\"], c=\"grey\", s=5, linewidth=0)\n",
    "# Plot all points that are not noise in red\n",
    "# NOTE how this is done through some fancy indexing, where\n",
    "#      we take the index of all points (db) and substract from\n",
    "#      it the index of those that are noise\n",
    "ax.scatter(\n",
    "    db.loc[db.index.difference(noise.index), \"x\"],\n",
    "    db.loc[db.index.difference(noise.index), \"y\"],\n",
    "    c=\"red\",\n",
    "    linewidth=0,\n",
    ")\n",
    "# Add basemap\n",
    "contextily.add_basemap(\n",
    "    ax,\n",
    "    crs=\"EPSG:3826\", # 需加入 epsg\n",
    "    source=contextily.providers.CartoDB.Positron\n",
    ")\n",
    "# Remove axes\n",
    "ax.set_axis_off()\n",
    "# Display the figure\n",
    "plt.show()"
   ]
  }
 ],
 "metadata": {
  "colab": {
   "provenance": [
    {
     "file_id": "1EF_cLRT0DT-GVZo5Ry3PiPvXLK71zA_Q",
     "timestamp": 1747238624816
    },
    {
     "file_id": "1HdQ7uS1FIpOHV9JCg5bRaTWxi8RX-SJS",
     "timestamp": 1747222969593
    },
    {
     "file_id": "18CEziKjafsBUMIZRtfUHbtb9lU8WDQnn",
     "timestamp": 1747205862906
    },
    {
     "file_id": "1d4ox2Zpqc0ass9pHsf97RNI04DpQ-nM7",
     "timestamp": 1747115165505
    }
   ],
   "toc_visible": true
  },
  "kernelspec": {
   "display_name": "Python 3",
   "name": "python3"
  },
  "language_info": {
   "name": "python"
  }
 },
 "nbformat": 4,
 "nbformat_minor": 0
}
