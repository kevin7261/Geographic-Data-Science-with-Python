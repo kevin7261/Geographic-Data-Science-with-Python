{
 "cells": [
  {
   "cell_type": "markdown",
   "metadata": {
    "id": "rq-IdVKELXzp"
   },
   "source": [
    "# Global Spatial Autocorrelation\n",
    "\n",
    "https://geographicdata.science/book/notebooks/06_spatial_autocorrelation.html"
   ]
  },
  {
   "cell_type": "code",
   "execution_count": null,
   "metadata": {
    "id": "xtQzzcQ17UOw"
   },
   "outputs": [],
   "source": [
    "# @title 初始值設定\n",
    "\n",
    "PROJECT_NAME = \"15_台南市區_合併位置\"\n",
    "\n",
    "DENGUE_DAILY_GSHEET_PATH = \"https://docs.google.com/spreadsheets/d/1vYyoq0Vf07kuWJU0Rg375jpHT9r9WzA2jiCPl3V3Oi4/edit?gid=2026372005#gid=2026372005\"\n",
    "GEOJSON_FILE_PATH = \"https://drive.google.com/file/d/1djyIaLyGPCoJNHt4Bgo-K6YZcr-5Mtys/view?usp=sharing\"\n",
    "WORKSHEET_NAME = PROJECT_NAME"
   ]
  },
  {
   "cell_type": "code",
   "execution_count": null,
   "metadata": {
    "cellView": "form",
    "id": "5AlFV54VvTd0"
   },
   "outputs": [],
   "source": [
    "# @title 下載台北思源黑體\n",
    "\n",
    "# 下載台北思源黑體，並隱藏輸出\n",
    "!wget -q -O TaipeiSansTCBeta-Regular.ttf https://drive.google.com/uc?id=1eGAsTN1HBpJAkeVM57_C7ccp7hbgSz3_&export=download\n",
    "\n",
    "# 匯入必要的庫\n",
    "import matplotlib as mpl\n",
    "import matplotlib.pyplot as plt\n",
    "from matplotlib.font_manager import fontManager\n",
    "\n",
    "# 新增字體\n",
    "fontManager.addfont('TaipeiSansTCBeta-Regular.ttf')\n",
    "\n",
    "# 設定字體\n",
    "mpl.rc('font', family='Taipei Sans TC Beta')\n"
   ]
  },
  {
   "cell_type": "code",
   "execution_count": null,
   "metadata": {
    "cellView": "form",
    "colab": {
     "base_uri": "https://localhost:8080/"
    },
    "executionInfo": {
     "elapsed": 32437,
     "status": "ok",
     "timestamp": 1747672199128,
     "user": {
      "displayName": "Kevin Cheng",
      "userId": "12501819886626332022"
     },
     "user_tz": -480
    },
    "id": "8EPcE80spK5c",
    "outputId": "e91f8dce-e289-419d-d853-169a2a7199a8"
   },
   "outputs": [],
   "source": [
    "# @title 安裝套件\n",
    "\n",
    "!pip install -q geopandas gdown\n",
    "!pip install -q pysal splot contextily"
   ]
  },
  {
   "cell_type": "markdown",
   "metadata": {
    "id": "8gsXISEKy07v"
   },
   "source": [
    "---"
   ]
  },
  {
   "cell_type": "markdown",
   "metadata": {
    "id": "zBOw6qx29X00"
   },
   "source": [
    "# An empirical illustration\n"
   ]
  },
  {
   "cell_type": "code",
   "execution_count": null,
   "metadata": {
    "cellView": "form",
    "colab": {
     "base_uri": "https://localhost:8080/"
    },
    "executionInfo": {
     "elapsed": 32119,
     "status": "ok",
     "timestamp": 1747672231249,
     "user": {
      "displayName": "Kevin Cheng",
      "userId": "12501819886626332022"
     },
     "user_tz": -480
    },
    "id": "isc72Sjqq7Qw",
    "outputId": "d4d7cd8a-cead-4cf0-f42f-1d8b295bfa7e"
   },
   "outputs": [],
   "source": [
    "# @title 匯入函式庫\n",
    "\n",
    "# Graphics\n",
    "import matplotlib.pyplot as plt\n",
    "import seaborn\n",
    "from pysal.viz import splot\n",
    "from splot.esda import plot_moran\n",
    "import contextily\n",
    "\n",
    "# Analysis\n",
    "import geopandas\n",
    "import pandas\n",
    "from pysal.explore import esda\n",
    "from pysal.lib import weights\n",
    "from numpy.random import seed"
   ]
  },
  {
   "cell_type": "markdown",
   "metadata": {
    "id": "8SzcsCCCDsT8"
   },
   "source": [
    "## 資料集\n",
    "\n",
    "1. 2015年台南市登革熱病例 (sheet)\n",
    "1. 台南市最小統計區 (shp)"
   ]
  },
  {
   "cell_type": "code",
   "execution_count": null,
   "metadata": {
    "cellView": "form",
    "colab": {
     "base_uri": "https://localhost:8080/"
    },
    "executionInfo": {
     "elapsed": 16888,
     "status": "ok",
     "timestamp": 1747672248135,
     "user": {
      "displayName": "Kevin Cheng",
      "userId": "12501819886626332022"
     },
     "user_tz": -480
    },
    "id": "YHPV1b5By131",
    "outputId": "f9cb8b63-01f4-40b2-f1af-ccc31d1cea18"
   },
   "outputs": [],
   "source": [
    "# @title 載入2015年台南市登革熱病例(gsheet)\n",
    "\n",
    "# ✅ 匯入套件\n",
    "import pandas as pd\n",
    "import gspread\n",
    "from google.colab import auth\n",
    "from google.auth import default\n",
    "from gspread_dataframe import get_as_dataframe\n",
    "\n",
    "SPREADSHEET_ID_GSHEET = DENGUE_DAILY_GSHEET_PATH.split(\"/d/\")[1].split(\"/\")[0]\n",
    "\n",
    "# ✅ 認證授權\n",
    "auth.authenticate_user()\n",
    "creds, _ = default()\n",
    "gc = gspread.authorize(creds)\n",
    "\n",
    "# ✅ 開啟工作表\n",
    "sh = gc.open_by_key(SPREADSHEET_ID_GSHEET)\n",
    "worksheet = sh.worksheet(WORKSHEET_NAME)\n",
    "\n",
    "# ✅ 將工作表轉為 DataFrame\n",
    "ref = get_as_dataframe(worksheet)  # 可加入 index_col=\"name\" 如欄位存在\n",
    "\n",
    "ref.set_index(\"name\", inplace=True)\n",
    "\n",
    "# ✅ 預覽資料\n",
    "ref.info()"
   ]
  },
  {
   "cell_type": "code",
   "execution_count": null,
   "metadata": {
    "colab": {
     "base_uri": "https://localhost:8080/"
    },
    "executionInfo": {
     "elapsed": 4059,
     "status": "ok",
     "timestamp": 1747672316795,
     "user": {
      "displayName": "Kevin Cheng",
      "userId": "12501819886626332022"
     },
     "user_tz": -480
    },
    "id": "igQeoiPk-BM9",
    "outputId": "7360974d-2d2c-4ebe-e8c0-8b8fe91f1d18"
   },
   "outputs": [],
   "source": [
    "# @title 下載geojson\n",
    "\n",
    "import gdown\n",
    "\n",
    "# ✅ 從 Google Drive 分享連結中提取檔案 ID\n",
    "file_id = GEOJSON_FILE_PATH.split(\"/d/\")[1].split(\"/\")[0]\n",
    "\n",
    "# ✅ 建立 direct download 連結\n",
    "download_url = f\"https://drive.google.com/uc?id={file_id}\"\n",
    "\n",
    "# ✅ 執行下載（保留原始檔名）\n",
    "gdown.download(download_url, quiet=False)  # 不指定 output，就會用原檔名\n",
    "\n",
    "# ✅ 驗證是否下載成功\n",
    "import os\n",
    "downloaded_files = os.listdir()\n",
    "print(\"📂 當前目錄檔案：\", downloaded_files)"
   ]
  },
  {
   "cell_type": "code",
   "execution_count": null,
   "metadata": {
    "cellView": "form",
    "colab": {
     "base_uri": "https://localhost:8080/",
     "height": 777
    },
    "executionInfo": {
     "elapsed": 1084,
     "status": "ok",
     "timestamp": 1747672317880,
     "user": {
      "displayName": "Kevin Cheng",
      "userId": "12501819886626332022"
     },
     "user_tz": -480
    },
    "id": "VkACgFn60fRi",
    "outputId": "2d28c227-7de0-49f0-8335-5ed44eb86e86"
   },
   "outputs": [],
   "source": [
    "# @title 載入台南市最小統計區(geojson)\n",
    "\n",
    "lads = geopandas.read_file(\n",
    "    f\"{PROJECT_NAME}.geojson\",\n",
    ").set_index(\"CODEBASE\")\n",
    "lads.info()\n",
    "\n",
    "#print(lads.crs) # EPSG:4979 Geodetic 3D coordinate system\n",
    "\n",
    "lads.set_crs(epsg=3826, inplace=True, allow_override=True) # EPSG:3826 TWD97\n",
    "\n",
    "#print(lads.crs)"
   ]
  },
  {
   "cell_type": "markdown",
   "metadata": {
    "id": "9hZOiSrNm0zk"
   },
   "source": [
    "# 分析count欄位"
   ]
  },
  {
   "cell_type": "code",
   "execution_count": null,
   "metadata": {
    "colab": {
     "base_uri": "https://localhost:8080/"
    },
    "executionInfo": {
     "elapsed": 94,
     "status": "ok",
     "timestamp": 1747672317975,
     "user": {
      "displayName": "Kevin Cheng",
      "userId": "12501819886626332022"
     },
     "user_tz": -480
    },
    "id": "xVPEW9x-09OM",
    "outputId": "a34fe110-0d57-4530-84fc-a981934f4695"
   },
   "outputs": [],
   "source": [
    "# @title 用index欄位合併csv與shp\n",
    "\n",
    "db = (\n",
    "    geopandas.GeoDataFrame(\n",
    "        lads.join(ref[[\"count\"]]), crs=lads.crs\n",
    "    )\n",
    "    .to_crs(epsg=3857)[ # EPSG:3857 Spherical Mercator\n",
    "        [\"count\", \"geometry\"]\n",
    "    ]\n",
    "    #.dropna()\n",
    ")\n",
    "\n",
    "db.info()"
   ]
  },
  {
   "cell_type": "code",
   "execution_count": null,
   "metadata": {
    "id": "Nih6iQ0ofdkJ"
   },
   "outputs": [],
   "source": [
    "db[\"count\"] = db[\"count\"].fillna(0)  # ➤ 補 0"
   ]
  },
  {
   "cell_type": "code",
   "execution_count": null,
   "metadata": {
    "id": "1MzKp0EQ1ITL"
   },
   "outputs": [],
   "source": [
    "# f, ax = plt.subplots(1, figsize=(9, 9))\n",
    "# db.plot(\n",
    "#     column=\"count\",\n",
    "#     cmap=\"viridis\",\n",
    "#     scheme=\"quantiles\",\n",
    "#     k=5,\n",
    "#     edgecolor=\"white\",\n",
    "#     linewidth=0.0,\n",
    "#     alpha=0.75,\n",
    "#     legend=True,\n",
    "#     legend_kwds={\"loc\": 2},\n",
    "#     ax=ax,\n",
    "# )\n",
    "# contextily.add_basemap(\n",
    "#     ax,\n",
    "#     crs=db.crs,\n",
    "#     source=contextily.providers.Esri.WorldTerrain,\n",
    "# )\n",
    "# ax.set_axis_off()"
   ]
  },
  {
   "cell_type": "markdown",
   "metadata": {
    "id": "dFTFREa03IBh"
   },
   "source": [
    "scheme 名稱\n",
    "說明\n",
    "- \"equal_interval\" 等距分級：將值域平均分為 k 等級\n",
    "- \"quantiles\" 分位數：依據排序後的分位數（例如四分位、五分位）劃分 k 等級\n",
    "- \"natural_breaks\" Jenks Natural Breaks（自然斷點）法，最常用於地理資料\n",
    "- \"fisher_jenks\" 類似 Jenks，但用 Fisher 的方式最小化群組內變異\n",
    "- \"headtail_breaks\" 專為長尾分布設計，適合右偏態分布（常見於城市規模、人口數）\n",
    "- \"maximum_breaks\" 嘗試最大化群組之間的差異（與 natural_breaks 相反）\n",
    "- \"std_mean\" 標準差法，以平均值與標準差為基準分級\n",
    "- \"percentiles\" 百分位分級，可微調分級分布（比 quantiles 更細）\n",
    "- \"box_plot\" 使用 boxplot（Tukey’s method），分成如 Q1-Q3、極端值等\n",
    "- \"jenks_caspall\" Jenks-Caspall 法改良版，比 natural breaks 更敏感\n",
    "- \"jenks_caspall_forced\" 強迫分為 k 組的 Jenks-Caspall 法\n",
    "- \"user_defined\" 使用者自定分級，需搭配 classification_kwds={\"bins\": [...]} 指定分級邊界\n"
   ]
  },
  {
   "cell_type": "code",
   "execution_count": null,
   "metadata": {
    "colab": {
     "base_uri": "https://localhost:8080/",
     "height": 730
    },
    "executionInfo": {
     "elapsed": 2480,
     "status": "ok",
     "timestamp": 1747672320487,
     "user": {
      "displayName": "Kevin Cheng",
      "userId": "12501819886626332022"
     },
     "user_tz": -480
    },
    "id": "j3Thmnv823EW",
    "outputId": "60252908-6325-4299-d264-ed7c9571bafe"
   },
   "outputs": [],
   "source": [
    "f, ax = plt.subplots(1, figsize=(9, 9))\n",
    "\n",
    "# ✅ 先繪製 count 為 0 的區塊，顏色固定為灰色\n",
    "db[db[\"count\"] == 0].plot(\n",
    "    color=\"lightgray\",  # 固定灰色\n",
    "    edgecolor=\"white\",  # 邊界顏色\n",
    "    linewidth=0.0,      # 無邊界線\n",
    "    alpha=0.75,         # 半透明\n",
    "    ax=ax               # 繪製在同一個 ax 上\n",
    ")\n",
    "\n",
    "# ✅ 再繪製 count > 0 的資料，使用分級色帶\n",
    "db[db[\"count\"] > 0].plot(\n",
    "    column=\"count\",                # 使用 count 欄位作為分級依據\n",
    "    cmap=\"viridis\",                # 色帶樣式\n",
    "    scheme=\"quantiles\",            # 使用分位數分級\n",
    "    k=5,                           # 分成 5 等級\n",
    "    edgecolor=\"white\",             # 邊界顏色\n",
    "    linewidth=0.0,                 # 無邊界線\n",
    "    alpha=0.75,                    # 半透明\n",
    "    legend=True,                   # 顯示圖例\n",
    "    legend_kwds={\"loc\": 2},        # 圖例位置：左上角\n",
    "    ax=ax                          # 繪製在同一個 ax 上\n",
    ")\n",
    "\n",
    "\n",
    "# ✅ 加入底圖（需要已投影為 Web Mercator）\n",
    "contextily.add_basemap(\n",
    "    ax,\n",
    "    crs=db.crs,  # 使用原始資料的座標系統\n",
    "    source=contextily.providers.Esri.WorldTerrain,  # 底圖來源\n",
    "    zoom=6       # 底圖縮放層級\n",
    ")\n",
    "\n",
    "# ✅ 移除軸線\n",
    "ax.set_axis_off()"
   ]
  },
  {
   "cell_type": "code",
   "execution_count": null,
   "metadata": {
    "id": "4o9Sbns23C_O"
   },
   "outputs": [],
   "source": [
    "# # ✅ 繪圖\n",
    "# fig, ax = plt.subplots(figsize=(10, 10))\n",
    "# db.plot(\n",
    "#     column=\"count\",\n",
    "#     cmap=\"OrRd\",\n",
    "#     legend=True,\n",
    "#     linewidth=0.1,\n",
    "#     edgecolor=\"gray\",\n",
    "#     ax=ax\n",
    "# )\n",
    "# ax.set_xlim(db.total_bounds[0], db.total_bounds[2])\n",
    "# ax.set_ylim(db.total_bounds[1], db.total_bounds[3])\n",
    "# contextily.add_basemap(ax, crs=db.crs, zoom=12)\n",
    "# ax.set_axis_off()\n",
    "# ax.set_title(\"臺南最小統計區病例分布（count）\", fontsize=16)\n",
    "# plt.tight_layout()\n",
    "# plt.show()"
   ]
  },
  {
   "cell_type": "code",
   "execution_count": null,
   "metadata": {
    "id": "lFpgjYgVeZKQ"
   },
   "outputs": [],
   "source": [
    "# @title 使用8個最近鄰居\n",
    "\n",
    "# Generate W from the GeoDataFrame\n",
    "w = weights.KNN.from_dataframe(db, k=8) # 使用8個最近鄰居\n",
    "# Row-standardization\n",
    "w.transform = \"R\" # ✅ 將空間權重矩陣 w 標準化為「行標準化（Row-standardized）」"
   ]
  },
  {
   "cell_type": "markdown",
   "metadata": {
    "id": "JFR1pDPvf6kx"
   },
   "source": [
    "# Global spatial autocorrelation"
   ]
  },
  {
   "cell_type": "markdown",
   "metadata": {
    "id": "dBbbQ6iI_O4M"
   },
   "source": [
    "## Spatial lag"
   ]
  },
  {
   "cell_type": "code",
   "execution_count": null,
   "metadata": {
    "id": "5pQdit78gD1G"
   },
   "outputs": [],
   "source": [
    "db[\"count_lag\"] = weights.spatial_lag.lag_spatial(\n",
    "    w, db[\"count\"]\n",
    ")"
   ]
  },
  {
   "cell_type": "code",
   "execution_count": null,
   "metadata": {
    "colab": {
     "base_uri": "https://localhost:8080/",
     "height": 143
    },
    "executionInfo": {
     "elapsed": 40,
     "status": "ok",
     "timestamp": 1747672321167,
     "user": {
      "displayName": "Kevin Cheng",
      "userId": "12501819886626332022"
     },
     "user_tz": -480
    },
    "id": "g_U-CIspgNPB",
    "outputId": "23f6e0af-f084-49cf-be5f-f54594ee6536"
   },
   "outputs": [],
   "source": [
    "db.loc[[\"A6737-0210-00\", \"A6733-0731-00\"], [\"count\", \"count_lag\"]]"
   ]
  },
  {
   "cell_type": "code",
   "execution_count": null,
   "metadata": {
    "colab": {
     "base_uri": "https://localhost:8080/",
     "height": 500
    },
    "executionInfo": {
     "elapsed": 5177,
     "status": "ok",
     "timestamp": 1747672326345,
     "user": {
      "displayName": "Kevin Cheng",
      "userId": "12501819886626332022"
     },
     "user_tz": -480
    },
    "id": "EwQ7_ElEgOrK",
    "outputId": "7c9c05a0-e289-40e7-caa3-30b974b36330"
   },
   "outputs": [],
   "source": [
    "#@title draw spatial lag\n",
    "\n",
    "f, axs = plt.subplots(1, 2, figsize=(12, 6))\n",
    "ax1, ax2 = axs\n",
    "\n",
    "db.plot(\n",
    "    column=\"count\",\n",
    "    cmap=\"viridis\",\n",
    "    scheme=\"quantiles\",\n",
    "    k=5,\n",
    "    edgecolor=\"white\",\n",
    "    linewidth=0.0,\n",
    "    alpha=0.75,\n",
    "    legend=True,\n",
    "    ax=ax1,\n",
    ")\n",
    "ax1.set_axis_off()\n",
    "ax1.set_title(\"Count\")\n",
    "contextily.add_basemap(\n",
    "    ax1,\n",
    "    crs=db.crs,\n",
    "    source=contextily.providers.Esri.WorldTerrain,\n",
    ")\n",
    "\n",
    "db.plot(\n",
    "    column=\"count_lag\",\n",
    "    cmap=\"viridis\",\n",
    "    scheme=\"quantiles\",\n",
    "    k=5,\n",
    "    edgecolor=\"white\",\n",
    "    linewidth=0.0,\n",
    "    alpha=0.75,\n",
    "    legend=True,\n",
    "    ax=ax2,\n",
    ")\n",
    "ax2.set_axis_off()\n",
    "ax2.set_title(\"Count - Spatial Lag\")\n",
    "contextily.add_basemap(\n",
    "    ax2,\n",
    "    crs=db.crs,\n",
    "    source=contextily.providers.Esri.WorldTerrain,\n",
    ")\n",
    "\n",
    "plt.show()"
   ]
  },
  {
   "cell_type": "markdown",
   "metadata": {
    "id": "cxZLH6G_DOCD"
   },
   "source": [
    "## Binary case: join counts"
   ]
  },
  {
   "cell_type": "code",
   "execution_count": null,
   "metadata": {
    "colab": {
     "base_uri": "https://localhost:8080/",
     "height": 238
    },
    "executionInfo": {
     "elapsed": 2,
     "status": "ok",
     "timestamp": 1747672326349,
     "user": {
      "displayName": "Kevin Cheng",
      "userId": "12501819886626332022"
     },
     "user_tz": -480
    },
    "id": "4XYoEuE3gqlF",
    "outputId": "5f9309d8-85ac-47db-fc39-9778e937949a"
   },
   "outputs": [],
   "source": [
    "db[\"count_binary\"] = (db[\"count\"] > 3).astype(int)\n",
    "db[[\"count\", \"count_binary\"]].tail()"
   ]
  },
  {
   "cell_type": "code",
   "execution_count": null,
   "metadata": {
    "colab": {
     "base_uri": "https://localhost:8080/",
     "height": 752
    },
    "executionInfo": {
     "elapsed": 1695,
     "status": "ok",
     "timestamp": 1747672328044,
     "user": {
      "displayName": "Kevin Cheng",
      "userId": "12501819886626332022"
     },
     "user_tz": -480
    },
    "id": "4Sxtsx9AjB5k",
    "outputId": "3cdf0a2b-18c2-4217-e0ee-114ba081217c"
   },
   "outputs": [],
   "source": [
    "f, ax = plt.subplots(1, figsize=(9, 9))\n",
    "db.plot(\n",
    "    ax=ax,\n",
    "    column=\"count_binary\",\n",
    "    categorical=True,\n",
    "    legend=True,\n",
    "    edgecolor=\"0.5\",\n",
    "    linewidth=0.25,\n",
    "    cmap=\"Set3\",\n",
    "    figsize=(9, 9),\n",
    ")\n",
    "ax.set_axis_off()\n",
    "ax.set_title(\"Count Binary\")\n",
    "plt.axis(\"equal\")\n",
    "plt.show()"
   ]
  },
  {
   "cell_type": "code",
   "execution_count": null,
   "metadata": {
    "colab": {
     "base_uri": "https://localhost:8080/",
     "height": 35
    },
    "executionInfo": {
     "elapsed": 2,
     "status": "ok",
     "timestamp": 1747672328047,
     "user": {
      "displayName": "Kevin Cheng",
      "userId": "12501819886626332022"
     },
     "user_tz": -480
    },
    "id": "UTQlIZA-jU_x",
    "outputId": "e93ca14a-e815-4b80-dc01-a201dc2cabf5"
   },
   "outputs": [],
   "source": [
    "w.transform"
   ]
  },
  {
   "cell_type": "code",
   "execution_count": null,
   "metadata": {
    "id": "f0QdN_NAjXBh"
   },
   "outputs": [],
   "source": [
    "w.transform = \"O\" # 這是設定 PySAL 的空間權重矩陣 w 的權重轉換方式為 \"O\"，也就是：✅ 不做任何標準化處理，保留原始的權重值。"
   ]
  },
  {
   "cell_type": "code",
   "execution_count": null,
   "metadata": {
    "colab": {
     "base_uri": "https://localhost:8080/",
     "height": 35
    },
    "executionInfo": {
     "elapsed": 1,
     "status": "ok",
     "timestamp": 1747672328049,
     "user": {
      "displayName": "Kevin Cheng",
      "userId": "12501819886626332022"
     },
     "user_tz": -480
    },
    "id": "xl0VTRFLjXjD",
    "outputId": "96de0f89-98cc-4b43-92ca-a1c09e0447a4"
   },
   "outputs": [],
   "source": [
    "w.transform"
   ]
  },
  {
   "cell_type": "code",
   "execution_count": null,
   "metadata": {
    "id": "HlF5ChJxjZWA"
   },
   "outputs": [],
   "source": [
    "seed(1234)\n",
    "jc = esda.join_counts.Join_Counts(db[\"count_binary\"], w)\n"
   ]
  },
  {
   "cell_type": "code",
   "execution_count": null,
   "metadata": {
    "colab": {
     "base_uri": "https://localhost:8080/"
    },
    "executionInfo": {
     "elapsed": 15,
     "status": "ok",
     "timestamp": 1747672357345,
     "user": {
      "displayName": "Kevin Cheng",
      "userId": "12501819886626332022"
     },
     "user_tz": -480
    },
    "id": "FGLMf7YZjcj4",
    "outputId": "48ff22aa-bee9-41ce-8af5-777f8cb8a2f4"
   },
   "outputs": [],
   "source": [
    "jc.bb # GG"
   ]
  },
  {
   "cell_type": "code",
   "execution_count": null,
   "metadata": {
    "colab": {
     "base_uri": "https://localhost:8080/"
    },
    "executionInfo": {
     "elapsed": 7,
     "status": "ok",
     "timestamp": 1747672357350,
     "user": {
      "displayName": "Kevin Cheng",
      "userId": "12501819886626332022"
     },
     "user_tz": -480
    },
    "id": "xkjcA2WSjrbM",
    "outputId": "36f5fdcb-0aae-4fae-dc79-85f48f97c202"
   },
   "outputs": [],
   "source": [
    "jc.ww # YY"
   ]
  },
  {
   "cell_type": "code",
   "execution_count": null,
   "metadata": {
    "colab": {
     "base_uri": "https://localhost:8080/"
    },
    "executionInfo": {
     "elapsed": 5,
     "status": "ok",
     "timestamp": 1747672357355,
     "user": {
      "displayName": "Kevin Cheng",
      "userId": "12501819886626332022"
     },
     "user_tz": -480
    },
    "id": "rfeSrK_6jswV",
    "outputId": "dff465f4-648f-4ba9-b4b9-84ddbddd92d7"
   },
   "outputs": [],
   "source": [
    "jc.bw # GY"
   ]
  },
  {
   "cell_type": "code",
   "execution_count": null,
   "metadata": {
    "colab": {
     "base_uri": "https://localhost:8080/"
    },
    "executionInfo": {
     "elapsed": 3,
     "status": "ok",
     "timestamp": 1747672357359,
     "user": {
      "displayName": "Kevin Cheng",
      "userId": "12501819886626332022"
     },
     "user_tz": -480
    },
    "id": "Tns6-WGvjuHO",
    "outputId": "487702d3-59ba-4298-cf06-2caa5d75ed63"
   },
   "outputs": [],
   "source": [
    "jc.bb + jc.ww + jc.bw"
   ]
  },
  {
   "cell_type": "code",
   "execution_count": null,
   "metadata": {
    "colab": {
     "base_uri": "https://localhost:8080/"
    },
    "executionInfo": {
     "elapsed": 2,
     "status": "ok",
     "timestamp": 1747672357361,
     "user": {
      "displayName": "Kevin Cheng",
      "userId": "12501819886626332022"
     },
     "user_tz": -480
    },
    "id": "djhAMyONjvjZ",
    "outputId": "801c36f0-3662-4737-a626-5d182a88e964"
   },
   "outputs": [],
   "source": [
    "jc.mean_bb # GG"
   ]
  },
  {
   "cell_type": "code",
   "execution_count": null,
   "metadata": {
    "colab": {
     "base_uri": "https://localhost:8080/"
    },
    "executionInfo": {
     "elapsed": 2,
     "status": "ok",
     "timestamp": 1747672357363,
     "user": {
      "displayName": "Kevin Cheng",
      "userId": "12501819886626332022"
     },
     "user_tz": -480
    },
    "id": "IECt2-dHj2jD",
    "outputId": "603d08f0-6c19-4cc8-9bfd-4829e9a664ec"
   },
   "outputs": [],
   "source": [
    "jc.mean_bw # GY"
   ]
  },
  {
   "cell_type": "code",
   "execution_count": null,
   "metadata": {
    "colab": {
     "base_uri": "https://localhost:8080/"
    },
    "executionInfo": {
     "elapsed": 2,
     "status": "ok",
     "timestamp": 1747672357365,
     "user": {
      "displayName": "Kevin Cheng",
      "userId": "12501819886626332022"
     },
     "user_tz": -480
    },
    "id": "0WnPn1sUj3vo",
    "outputId": "4508546c-80f2-43c8-b5e0-4db87e56f259"
   },
   "outputs": [],
   "source": [
    "jc.p_sim_bb"
   ]
  },
  {
   "cell_type": "code",
   "execution_count": null,
   "metadata": {
    "colab": {
     "base_uri": "https://localhost:8080/"
    },
    "executionInfo": {
     "elapsed": 2,
     "status": "ok",
     "timestamp": 1747672357368,
     "user": {
      "displayName": "Kevin Cheng",
      "userId": "12501819886626332022"
     },
     "user_tz": -480
    },
    "id": "L2FzNZaNj42W",
    "outputId": "c0ae5542-df76-4cdd-c7f6-d08d1904ac4b"
   },
   "outputs": [],
   "source": [
    "jc.p_sim_bw"
   ]
  },
  {
   "cell_type": "markdown",
   "metadata": {
    "id": "JRvlkM5Z3rKK"
   },
   "source": [
    "# Continuous case: Moran Plot and Moran’s I"
   ]
  },
  {
   "cell_type": "code",
   "execution_count": null,
   "metadata": {
    "id": "aPVbTy63j8W8"
   },
   "outputs": [],
   "source": [
    "db[\"count_std\"] = db[\"count\"] - db[\"count\"].mean() # 標準差\n",
    "db[\"count_lag_std\"] = weights.lag_spatial(\n",
    "    w, db[\"count_std\"]\n",
    ")"
   ]
  },
  {
   "cell_type": "code",
   "execution_count": null,
   "metadata": {
    "colab": {
     "base_uri": "https://localhost:8080/",
     "height": 564
    },
    "executionInfo": {
     "elapsed": 506,
     "status": "ok",
     "timestamp": 1747672357911,
     "user": {
      "displayName": "Kevin Cheng",
      "userId": "12501819886626332022"
     },
     "user_tz": -480
    },
    "id": "tgJwgRk-kHFI",
    "outputId": "e833c7c3-6346-472a-b692-d8b2d8c1ffba"
   },
   "outputs": [],
   "source": [
    "f, ax = plt.subplots(1, figsize=(6, 6))\n",
    "seaborn.regplot(\n",
    "    x=\"count_std\",\n",
    "    y=\"count_lag_std\",\n",
    "    ci=None,\n",
    "    data=db,\n",
    "    line_kws={\"color\": \"r\"},\n",
    ")\n",
    "ax.axvline(0, c=\"k\", alpha=0.5)\n",
    "ax.axhline(0, c=\"k\", alpha=0.5)\n",
    "ax.set_title(\"Moran Plot - Count\")\n",
    "plt.show()"
   ]
  },
  {
   "cell_type": "code",
   "execution_count": null,
   "metadata": {
    "id": "6QVzCBxAkQWd"
   },
   "outputs": [],
   "source": [
    "w.transform = \"R\" # ✅ 將空間權重矩陣 w 標準化為「行標準化（Row-standardized）」\n",
    "moran = esda.moran.Moran(db[\"count\"], w)"
   ]
  },
  {
   "cell_type": "code",
   "execution_count": null,
   "metadata": {
    "colab": {
     "base_uri": "https://localhost:8080/"
    },
    "executionInfo": {
     "elapsed": 2,
     "status": "ok",
     "timestamp": 1747672358430,
     "user": {
      "displayName": "Kevin Cheng",
      "userId": "12501819886626332022"
     },
     "user_tz": -480
    },
    "id": "63VxL6SEkVmX",
    "outputId": "13134184-2b27-4c3b-f5ba-8158b7bf94e7"
   },
   "outputs": [],
   "source": [
    "moran.I"
   ]
  },
  {
   "cell_type": "code",
   "execution_count": null,
   "metadata": {
    "colab": {
     "base_uri": "https://localhost:8080/"
    },
    "executionInfo": {
     "elapsed": 2,
     "status": "ok",
     "timestamp": 1747672358433,
     "user": {
      "displayName": "Kevin Cheng",
      "userId": "12501819886626332022"
     },
     "user_tz": -480
    },
    "id": "9kb9v2bakW5g",
    "outputId": "d79d29c2-58a1-4c87-f128-9617e4b37d6d"
   },
   "outputs": [],
   "source": [
    "moran.p_sim # ✅ 結果具有統計顯著性（空間自相關成立）"
   ]
  },
  {
   "cell_type": "code",
   "execution_count": null,
   "metadata": {
    "colab": {
     "base_uri": "https://localhost:8080/",
     "height": 426
    },
    "executionInfo": {
     "elapsed": 834,
     "status": "ok",
     "timestamp": 1747672359267,
     "user": {
      "displayName": "Kevin Cheng",
      "userId": "12501819886626332022"
     },
     "user_tz": -480
    },
    "id": "LZRlT92TkYZ0",
    "outputId": "cc62bc83-fb2c-4a66-93cd-53163adf8c6c"
   },
   "outputs": [],
   "source": [
    "plot_moran(moran);"
   ]
  },
  {
   "cell_type": "markdown",
   "metadata": {
    "id": "gNIZHMyc612Y"
   },
   "source": [
    "# Other global indices"
   ]
  },
  {
   "cell_type": "markdown",
   "metadata": {
    "id": "Sowl1c6t6-4J"
   },
   "source": [
    "## Geary’s C"
   ]
  },
  {
   "cell_type": "code",
   "execution_count": null,
   "metadata": {
    "id": "TVKPz-MtkagQ"
   },
   "outputs": [],
   "source": [
    "geary = esda.geary.Geary(db[\"count\"], w)"
   ]
  },
  {
   "cell_type": "code",
   "execution_count": null,
   "metadata": {
    "colab": {
     "base_uri": "https://localhost:8080/"
    },
    "executionInfo": {
     "elapsed": 10,
     "status": "ok",
     "timestamp": 1747672360051,
     "user": {
      "displayName": "Kevin Cheng",
      "userId": "12501819886626332022"
     },
     "user_tz": -480
    },
    "id": "AAuTSNPOkdUr",
    "outputId": "ab5618a6-da79-4121-8e4c-012ee21ba26b"
   },
   "outputs": [],
   "source": [
    "geary.C # 正向空間自相關（鄰近值相似）"
   ]
  },
  {
   "cell_type": "code",
   "execution_count": null,
   "metadata": {
    "colab": {
     "base_uri": "https://localhost:8080/"
    },
    "executionInfo": {
     "elapsed": 9,
     "status": "ok",
     "timestamp": 1747672360061,
     "user": {
      "displayName": "Kevin Cheng",
      "userId": "12501819886626332022"
     },
     "user_tz": -480
    },
    "id": "ipZgaknykfrv",
    "outputId": "3d1e8c47-3801-43d1-8d64-33088f8b60cc"
   },
   "outputs": [],
   "source": [
    "geary.p_sim"
   ]
  },
  {
   "cell_type": "markdown",
   "metadata": {
    "id": "Nh_3YASz7Da-"
   },
   "source": [
    "## Getis and Ord’s G"
   ]
  },
  {
   "cell_type": "code",
   "execution_count": null,
   "metadata": {
    "colab": {
     "base_uri": "https://localhost:8080/"
    },
    "executionInfo": {
     "elapsed": 272,
     "status": "ok",
     "timestamp": 1747672360340,
     "user": {
      "displayName": "Kevin Cheng",
      "userId": "12501819886626332022"
     },
     "user_tz": -480
    },
    "id": "FI70PnHqkg2H",
    "outputId": "02aaf3f7-bd95-4ef3-8484-05881772ea85"
   },
   "outputs": [],
   "source": [
    "# 某個地點周圍是否形成高值或低值的集群。\n",
    "db_osgb = db.to_crs(epsg=3826) # epsg=3826 TWD97 / epsg=27700 British National Grid\n",
    "pts = db_osgb.centroid\n",
    "xys = pandas.DataFrame({\"X\": pts.x, \"Y\": pts.y})\n",
    "min_thr = weights.util.min_threshold_distance(xys)\n",
    "min_thr # 找出「使得每個點至少有一個鄰居」所需的最小距離 d」"
   ]
  },
  {
   "cell_type": "code",
   "execution_count": null,
   "metadata": {
    "colab": {
     "base_uri": "https://localhost:8080/"
    },
    "executionInfo": {
     "elapsed": 5294,
     "status": "ok",
     "timestamp": 1747672365635,
     "user": {
      "displayName": "Kevin Cheng",
      "userId": "12501819886626332022"
     },
     "user_tz": -480
    },
    "id": "k8RF1GVVqieU",
    "outputId": "e839b7fa-a420-43da-c0d8-8ce6118eb999"
   },
   "outputs": [],
   "source": [
    "w_db = weights.DistanceBand.from_dataframe(db_osgb, min_thr)"
   ]
  },
  {
   "cell_type": "code",
   "execution_count": null,
   "metadata": {
    "id": "KJZKSV5WklKT"
   },
   "outputs": [],
   "source": [
    "gao = esda.getisord.G(db[\"count\"], w_db)"
   ]
  },
  {
   "cell_type": "code",
   "execution_count": null,
   "metadata": {
    "colab": {
     "base_uri": "https://localhost:8080/"
    },
    "executionInfo": {
     "elapsed": 5,
     "status": "ok",
     "timestamp": 1747672368711,
     "user": {
      "displayName": "Kevin Cheng",
      "userId": "12501819886626332022"
     },
     "user_tz": -480
    },
    "id": "VoRlCBrukmsI",
    "outputId": "9717382f-436c-4593-ebd7-d606dfd53680"
   },
   "outputs": [],
   "source": [
    "print(\n",
    "    \"Getis & Ord G: %.3f | Pseudo P-value: %.3f\" % (gao.G, gao.p_sim)\n",
    ")"
   ]
  }
 ],
 "metadata": {
  "colab": {
   "provenance": [
    {
     "file_id": "18CEziKjafsBUMIZRtfUHbtb9lU8WDQnn",
     "timestamp": 1747205862906
    },
    {
     "file_id": "1d4ox2Zpqc0ass9pHsf97RNI04DpQ-nM7",
     "timestamp": 1747115165505
    }
   ],
   "toc_visible": true
  },
  "kernelspec": {
   "display_name": "Python 3",
   "name": "python3"
  },
  "language_info": {
   "name": "python"
  }
 },
 "nbformat": 4,
 "nbformat_minor": 0
}
